{
  "nbformat": 4,
  "nbformat_minor": 0,
  "metadata": {
    "colab": {
      "provenance": [],
      "toc_visible": true
    },
    "kernelspec": {
      "name": "python3",
      "display_name": "Python 3"
    },
    "language_info": {
      "name": "python"
    }
  },
  "cells": [
    {
      "cell_type": "markdown",
      "source": [
        "## Importing Libraries and connecting Google Drive"
      ],
      "metadata": {
        "id": "qv5Gv2OA5W1A"
      }
    },
    {
      "cell_type": "code",
      "source": [
        "!pip install -U -q PyDrive\n",
        "from pydrive.auth import GoogleAuth\n",
        "from pydrive.drive import GoogleDrive\n",
        "from google.colab import auth\n",
        "from oauth2client.client import GoogleCredentials"
      ],
      "metadata": {
        "id": "M9J0baV-tJSv"
      },
      "execution_count": null,
      "outputs": []
    },
    {
      "cell_type": "code",
      "execution_count": null,
      "metadata": {
        "id": "qFX8NjVlSAVE"
      },
      "outputs": [],
      "source": [
        "import torch\n",
        "import torch.nn as nn\n",
        "from torch.nn import functional as F\n",
        "from google.colab import drive"
      ]
    },
    {
      "cell_type": "code",
      "source": [
        "auth.authenticate_user()\n",
        "gauth = GoogleAuth()\n",
        "gauth.credentials = GoogleCredentials.get_application_default()\n",
        "drive = GoogleDrive(gauth)"
      ],
      "metadata": {
        "id": "I-b5d-crthCD"
      },
      "execution_count": null,
      "outputs": []
    },
    {
      "cell_type": "code",
      "source": [
        "# Download a file based on its file ID (the long string in the shareable link of a file in Google Drive)\n",
        "file_id = '1uZiUwBQGpCcr2G9s1mXdwvNYnttTdOIU'\n",
        "downloaded = drive.CreateFile({'id': file_id})\n",
        "downloaded.GetContentFile('theSecretBook.txt')\n",
        "input_file_path = '/content/theSecretBook.txt'"
      ],
      "metadata": {
        "id": "E9ER0U8stGwo"
      },
      "execution_count": null,
      "outputs": []
    },
    {
      "cell_type": "code",
      "source": [
        "# hyperparameters\n",
        "batch_size = 16 # how many independent sequences will we process in parallel?\n",
        "block_size = 32 # what is the maximum context length for predictions?\n",
        "max_iters = 5000\n",
        "eval_interval = 100\n",
        "learning_rate = 1e-3\n",
        "device = 'cuda' if torch.cuda.is_available() else 'cpu'\n",
        "eval_iters = 200\n",
        "n_embd = 64\n",
        "n_head = 4\n",
        "n_layer = 4\n",
        "dropout = 0.0\n",
        "# ------------\n",
        "\n",
        "torch.manual_seed(1337)"
      ],
      "metadata": {
        "colab": {
          "base_uri": "https://localhost:8080/"
        },
        "id": "2HkgSpoUpBZV",
        "outputId": "2b364b2e-a0cb-424d-ee6c-2dc1e7a3e5d8"
      },
      "execution_count": null,
      "outputs": [
        {
          "output_type": "execute_result",
          "data": {
            "text/plain": [
              "<torch._C.Generator at 0x7bb1a12cbe50>"
            ]
          },
          "metadata": {},
          "execution_count": 51
        }
      ]
    },
    {
      "cell_type": "markdown",
      "source": [
        "## Dataset Loading"
      ],
      "metadata": {
        "id": "rYHjkoDT52Er"
      }
    },
    {
      "cell_type": "code",
      "source": [
        "class Dataset:\n",
        "  def __init__(self):\n",
        "    self.vocab_size = 0\n",
        "    self.train_data = torch.tensor([])\n",
        "    self.val_data = torch.tensor([])\n",
        "\n",
        "  def read_dataset(self):\n",
        "    with open(input_file_path, 'r', encoding='utf-8') as f:\n",
        "        self.data = f.read()\n",
        "\n",
        "  def prepare_dataset(self):\n",
        "    chars = sorted(list(set(self.data)))\n",
        "    self.vocab_size = len(chars)\n",
        "    char_to_int = { ch:i for i,ch in enumerate(chars) }\n",
        "    int_to_char = { i:ch for i,ch in enumerate(chars) }\n",
        "    self.encode = lambda s: [char_to_int[c] for c in s]\n",
        "    self.decode = lambda l: ''.join([int_to_char[i] for i in l])\n",
        "\n",
        "  def data_split(self):\n",
        "    data_tensor = torch.tensor(self.encode(self.data), dtype=torch.long)\n",
        "    n = int(0.8*len(data_tensor))\n",
        "    self.train_data = data_tensor[:n]\n",
        "    self.val_data = data_tensor[n:]\n",
        "\n",
        "  def get_batch(self, split):\n",
        "    data = self.train_data if split == 'train' else self.val_data\n",
        "    ix = torch.randint(len(data) - block_size, (batch_size,))\n",
        "    x = torch.stack([data[i:i+block_size] for i in ix])\n",
        "    y = torch.stack([data[i+1:i+block_size+1] for i in ix])\n",
        "    x, y = x.to(device), y.to(device)\n",
        "    return x, y"
      ],
      "metadata": {
        "id": "rrd7yijpOcIZ"
      },
      "execution_count": null,
      "outputs": []
    },
    {
      "cell_type": "code",
      "source": [
        "dataObj = Dataset()\n",
        "dataObj.read_dataset()\n",
        "dataObj.prepare_dataset()\n",
        "dataObj.data_split()"
      ],
      "metadata": {
        "id": "a2Ic1HsCymJf"
      },
      "execution_count": null,
      "outputs": []
    },
    {
      "cell_type": "markdown",
      "source": [
        "## Loss Function"
      ],
      "metadata": {
        "id": "DGhcv6VK56Cd"
      }
    },
    {
      "cell_type": "code",
      "source": [
        "class Loss:\n",
        "  @torch.no_grad()\n",
        "  def estimate_loss(self):\n",
        "    out = {}\n",
        "    model.eval()\n",
        "    for split in ['train', 'val']:\n",
        "        losses = torch.zeros(eval_iters)\n",
        "        for k in range(eval_iters):\n",
        "            X, Y = dataObj.get_batch(split)\n",
        "            logits, loss = model(X, Y)\n",
        "            losses[k] = loss.item()\n",
        "        out[split] = losses.mean()\n",
        "    model.train()\n",
        "    return out"
      ],
      "metadata": {
        "id": "f5jMGt9Gy38H"
      },
      "execution_count": null,
      "outputs": []
    },
    {
      "cell_type": "code",
      "source": [
        "lossObj = Loss()"
      ],
      "metadata": {
        "id": "X3kL5IcyzDE2"
      },
      "execution_count": null,
      "outputs": []
    },
    {
      "cell_type": "markdown",
      "source": [
        "## Attention Head"
      ],
      "metadata": {
        "id": "CjtExP_l59Ss"
      }
    },
    {
      "cell_type": "code",
      "source": [
        "class Head(nn.Module):\n",
        "  def __init__(self, head_size):\n",
        "    super().__init__()\n",
        "    self.key = nn.Linear(n_embd, head_size, bias=False)\n",
        "    self.query = nn.Linear(n_embd, head_size, bias=False)\n",
        "    self.value = nn.Linear(n_embd, head_size, bias=False)\n",
        "    self.register_buffer('tril', torch.tril(torch.ones(block_size, block_size)))\n",
        "\n",
        "  def forward(self, x):\n",
        "    B,T,C = x.shape\n",
        "    k = self.key(x)\n",
        "    q = self.query(x)\n",
        "    w = q @ k.transpose(-2,-1) * C**-0.5\n",
        "    w = w.masked_fill(self.tril[:T, :T] == 0, float('-inf'))\n",
        "    w = F.softmax(w, dim=-1)\n",
        "\n",
        "    v = self.value(x)\n",
        "    out = w @ v\n",
        "\n",
        "    return out"
      ],
      "metadata": {
        "id": "F_uIfakkzJ96"
      },
      "execution_count": null,
      "outputs": []
    },
    {
      "cell_type": "markdown",
      "source": [
        "## Multihead Attention"
      ],
      "metadata": {
        "id": "FIAZ1Ckm6Ack"
      }
    },
    {
      "cell_type": "code",
      "source": [
        "class MultiHeadAttention(nn.Module):\n",
        "    \"\"\" multiple heads of self-attention in parallel \"\"\"\n",
        "\n",
        "    def __init__(self, num_heads, head_size):\n",
        "        super().__init__()\n",
        "        self.heads = nn.ModuleList([Head(head_size) for _ in range(num_heads)])\n",
        "        self.proj = nn.Linear(n_embd, n_embd)\n",
        "        self.dropout = nn.Dropout(dropout)\n",
        "\n",
        "    def forward(self, x):\n",
        "        out = torch.cat([h(x) for h in self.heads], dim=-1)\n",
        "        out = self.dropout(self.proj(out))\n",
        "        return out"
      ],
      "metadata": {
        "id": "_D0dOJhEzRqB"
      },
      "execution_count": null,
      "outputs": []
    },
    {
      "cell_type": "markdown",
      "source": [
        "## FeedForward Network"
      ],
      "metadata": {
        "id": "WtiFxvQh6FBj"
      }
    },
    {
      "cell_type": "code",
      "source": [
        "class FeedFoward(nn.Module):\n",
        "    \"\"\" a simple linear layer followed by a non-linearity \"\"\"\n",
        "\n",
        "    def __init__(self, n_embd):\n",
        "        super().__init__()\n",
        "        self.net = nn.Sequential(\n",
        "            nn.Linear(n_embd, 4 * n_embd),\n",
        "            nn.ReLU(),\n",
        "            nn.Linear(4 * n_embd, n_embd),\n",
        "            nn.Dropout(dropout),\n",
        "        )\n",
        "\n",
        "    def forward(self, x):\n",
        "        return self.net(x)"
      ],
      "metadata": {
        "id": "HbNFhRoXzWBn"
      },
      "execution_count": null,
      "outputs": []
    },
    {
      "cell_type": "code",
      "source": [
        "class TransformerBlock(nn.Module):\n",
        "  def __init__(self, n_embd, n_head):\n",
        "    super().__init__()\n",
        "    head_size = n_embd // n_head\n",
        "    self.sa = MultiHeadAttention(n_head, head_size)\n",
        "    self.ffwd = FeedFoward(n_embd)\n",
        "    self.ln1 = nn.LayerNorm(n_embd)\n",
        "    self.ln2 = nn.LayerNorm(n_embd)\n",
        "\n",
        "  def forward(self, x):\n",
        "    x = x + self.sa(self.ln1(x))\n",
        "    x = x + self.ffwd(self.ln2(x))\n",
        "    return x"
      ],
      "metadata": {
        "id": "aV8Trt7HUVkE"
      },
      "execution_count": null,
      "outputs": []
    },
    {
      "cell_type": "code",
      "source": [
        "class NanoGPT(nn.Module):\n",
        "  def __init__(self):\n",
        "    super().__init__()\n",
        "    self.token_embedding_table = nn.Embedding(dataObj.vocab_size, n_embd)\n",
        "    self.position_embedding_table = nn.Embedding(block_size, n_embd)\n",
        "    self.blocks = nn.Sequential(*[TransformerBlock(n_embd, n_head=n_head) for _ in range(n_layer)])\n",
        "    self.ln_f = nn.LayerNorm(n_embd)\n",
        "    self.lm_head = nn.Linear(n_embd, dataObj.vocab_size)\n",
        "\n",
        "  def forward(self, idx, targets=None):\n",
        "    B, T = idx.shape\n",
        "    tok_emb = self.token_embedding_table(idx)\n",
        "    pos_emb = self.position_embedding_table(torch.arange(T, device=device))\n",
        "    x = tok_emb + pos_emb\n",
        "    x = self.blocks(x)\n",
        "    x = self.ln_f(x)\n",
        "    logits = self.lm_head(x)\n",
        "\n",
        "    if targets is None:\n",
        "        loss = None\n",
        "    else:\n",
        "        B, T, C = logits.shape\n",
        "        logits = logits.view(B*T, C)\n",
        "        targets = targets.view(B*T)\n",
        "        loss = F.cross_entropy(logits, targets)\n",
        "\n",
        "    return logits, loss\n",
        "\n",
        "  def generate(self, idx, max_new_tokens):\n",
        "    for _ in range(max_new_tokens):\n",
        "      idx_cond = idx[:, -block_size:]\n",
        "      logits, loss = self(idx_cond)\n",
        "      logits = logits[:, -1, :]\n",
        "      probs = F.softmax(logits, dim=-1)\n",
        "      idx_next = torch.multinomial(probs, num_samples=1)\n",
        "      idx = torch.cat((idx, idx_next), dim=1)\n",
        "    return idx"
      ],
      "metadata": {
        "id": "6wlMV8JYUjiL"
      },
      "execution_count": null,
      "outputs": []
    },
    {
      "cell_type": "code",
      "source": [
        "def generateNext():\n",
        "  context = torch.zeros((1, 1), dtype=torch.long, device=device)\n",
        "  print(dataObj.decode(m.generate(context, max_new_tokens=2000)[0].tolist()))"
      ],
      "metadata": {
        "id": "dyCbV9XLWH5q"
      },
      "execution_count": null,
      "outputs": []
    },
    {
      "cell_type": "code",
      "execution_count": null,
      "metadata": {
        "id": "TozLG9XW53XR",
        "colab": {
          "base_uri": "https://localhost:8080/"
        },
        "outputId": "4713cf53-565f-4d53-d299-a4fa30a5cdc3"
      },
      "outputs": [
        {
          "output_type": "stream",
          "name": "stdout",
          "text": [
            "0.215018 M parameters\n",
            "step 0: train loss 4.8042, val loss 4.7999\n",
            "step 100: train loss 2.5784, val loss 2.6384\n",
            "step 200: train loss 2.4063, val loss 2.5063\n",
            "step 300: train loss 2.3052, val loss 2.4137\n",
            "step 400: train loss 2.2187, val loss 2.3531\n",
            "step 500: train loss 2.1679, val loss 2.2896\n",
            "step 600: train loss 2.0917, val loss 2.2449\n",
            "step 700: train loss 2.0188, val loss 2.1882\n",
            "step 800: train loss 1.9700, val loss 2.1452\n",
            "step 900: train loss 1.9012, val loss 2.0885\n",
            "step 1000: train loss 1.8685, val loss 2.0759\n",
            "step 1100: train loss 1.8077, val loss 2.0367\n",
            "step 1200: train loss 1.7691, val loss 1.9902\n",
            "step 1300: train loss 1.7287, val loss 1.9460\n",
            "step 1400: train loss 1.7007, val loss 1.9414\n",
            "step 1500: train loss 1.6937, val loss 1.9320\n",
            "step 1600: train loss 1.6689, val loss 1.9168\n",
            "step 1700: train loss 1.6354, val loss 1.8995\n",
            "step 1800: train loss 1.6231, val loss 1.8884\n",
            "step 1900: train loss 1.6041, val loss 1.8640\n",
            "step 2000: train loss 1.5844, val loss 1.8520\n",
            "step 2100: train loss 1.5844, val loss 1.8528\n",
            "step 2200: train loss 1.5579, val loss 1.8286\n",
            "step 2300: train loss 1.5509, val loss 1.8434\n",
            "step 2400: train loss 1.5418, val loss 1.8299\n",
            "step 2500: train loss 1.5325, val loss 1.8162\n",
            "step 2600: train loss 1.5257, val loss 1.7886\n",
            "step 2700: train loss 1.5120, val loss 1.8104\n",
            "step 2800: train loss 1.4979, val loss 1.7803\n",
            "step 2900: train loss 1.4792, val loss 1.7958\n",
            "step 3000: train loss 1.4858, val loss 1.7898\n",
            "step 3100: train loss 1.4685, val loss 1.7782\n",
            "step 3200: train loss 1.4509, val loss 1.7688\n",
            "step 3300: train loss 1.4452, val loss 1.7613\n",
            "step 3400: train loss 1.4425, val loss 1.7626\n",
            "step 3500: train loss 1.4376, val loss 1.7636\n",
            "step 3600: train loss 1.4326, val loss 1.7536\n",
            "step 3700: train loss 1.4177, val loss 1.7264\n",
            "step 3800: train loss 1.4204, val loss 1.7638\n",
            "step 3900: train loss 1.4089, val loss 1.7442\n",
            "step 4000: train loss 1.4059, val loss 1.7419\n",
            "step 4100: train loss 1.3976, val loss 1.7532\n",
            "step 4200: train loss 1.3987, val loss 1.7249\n",
            "step 4300: train loss 1.3845, val loss 1.7372\n",
            "step 4400: train loss 1.3848, val loss 1.7123\n",
            "step 4500: train loss 1.3776, val loss 1.7195\n",
            "step 4600: train loss 1.3721, val loss 1.7209\n",
            "step 4700: train loss 1.3787, val loss 1.7385\n",
            "step 4800: train loss 1.3624, val loss 1.7325\n",
            "step 4900: train loss 1.3636, val loss 1.7117\n",
            "step 4999: train loss 1.3671, val loss 1.7279\n"
          ]
        }
      ],
      "source": [
        "if __name__ == '__main__':\n",
        "  model = NanoGPT()\n",
        "  m = model.to(device)\n",
        "  print(sum(p.numel() for p in m.parameters())/1e6, 'M parameters')\n",
        "\n",
        "  optimizer = torch.optim.AdamW(model.parameters(), lr=learning_rate)\n",
        "\n",
        "  for iter in range(max_iters):\n",
        "    if iter % eval_interval == 0 or iter == max_iters - 1:\n",
        "        losses = lossObj.estimate_loss()\n",
        "        print(f\"step {iter}: train loss {losses['train']:.4f}, val loss {losses['val']:.4f}\")\n",
        "\n",
        "    xb, yb = dataObj.get_batch('train')\n",
        "\n",
        "    logits, loss = model(xb, yb)\n",
        "    optimizer.zero_grad(set_to_none=True)\n",
        "    loss.backward()\n",
        "    optimizer.step()"
      ]
    },
    {
      "cell_type": "code",
      "source": [
        "generateNext()"
      ],
      "metadata": {
        "id": "fjjvMifYZf7x",
        "colab": {
          "base_uri": "https://localhost:8080/"
        },
        "outputId": "43827829-d185-44b8-d14e-a65a430dd88f"
      },
      "execution_count": null,
      "outputs": [
        {
          "output_type": "stream",
          "name": "stdout",
          "text": [
            "\n",
            "\n",
            "\n",
            "> You can receive for the filmerity \n",
            "\n",
            "\n",
            "\n",
            "The posion of Siminal Back PROCTOR \n",
            "The Health todurable focus on your life \n",
            "not, or do think you, and the lovike, \n",
            "\"You are a life * Worterse law \n",
            "on hold on thoughts. Eake you take in through hearn \n",
            "about every your in the mobed now harly \n",
            "immuake one to giving to not what efterve- \n",
            "orelergy and again, and receive all your beink \n",
            "and focus on on it. You have \n",
            "to doon't a scame thousable and \n",
            "time signdencess you receive \n",
            "to think- der- \n",
            "ing is the bought to clearge throught for you \n",
            "secom the more event of mausted the mags. You're jobody him \n",
            "biged! Negived in when you sigh someth 1s \n",
            "and things's live fralual someth the creates my millike the greatest fradiation. I doon't me neet's goR. When Secret in ell jober \n",
            "to criess. Feel gooday, and in entire thoughts to The Mergailizies through \n",
            "continuarralizr, the find, like a distering havitys to knowled‘erate \n",
            "Bible Corne The Secret. Rell Naturalte: \n",
            "\n",
            "\n",
            "\n",
            "120 The Secret detain Bring with thoughts, the kearb to \n",
            "the her things bodincrible. Af you ill blibilith to go live nouslize, to will zor or innew say the vibout I child in my goalaying in about became \n",
            "the fil raceleary to the sell \n",
            "with all news to everain, and fever hage. Nizize of being in in your mire mill to the magneteral up it's a that \n",
            "feathers. \n",
            "\n",
            "\n",
            "\n",
            "\n",
            "Whateverember thoughts jobe things back and that. \n",
            "\n",
            "\n",
            "\n",
            "\n",
            "I didn't.\" And the Universe Begin Card Sece Hiess the people wo bry start existence of one \n",
            "because your will bein thre.\" \n",
            "\n",
            "\n",
            "\n",
            "\n",
            "Live Pie Mighting: I wanted to to make that in your life.t. What the next old more on thoughts \n",
            "focus on the people breadinclels. \n",
            "\n",
            "\n",
            "\n",
            "\n",
            "\n",
            "\"I began out done.\" \n",
            "\n",
            "\n",
            "\n",
            "Qter your time, by love yone seelings are overy- \n",
            "thing than pleosing in the realoub] of the next first money, no ming that is yourself in the ause no thing all ditain, an. \n",
            "\n",
            "\n",
            "\n",
            "\n",
            "The law of attraction, and cleall. I emairain or lived, you think about I think by debracks in the law vient in \n",
            "have to change and thoughts every useds on in t\n"
          ]
        }
      ]
    }
  ]
}