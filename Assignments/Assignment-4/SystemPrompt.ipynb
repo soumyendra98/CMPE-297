{
  "nbformat": 4,
  "nbformat_minor": 0,
  "metadata": {
    "colab": {
      "provenance": []
    },
    "kernelspec": {
      "name": "python3",
      "display_name": "Python 3"
    },
    "language_info": {
      "name": "python"
    }
  },
  "cells": [
    {
      "cell_type": "markdown",
      "source": [
        "## Cooking OpenAI"
      ],
      "metadata": {
        "id": "tJe3YKZ2ehsR"
      }
    },
    {
      "cell_type": "code",
      "execution_count": null,
      "metadata": {
        "colab": {
          "base_uri": "https://localhost:8080/"
        },
        "id": "-qK5zYcONDf-",
        "outputId": "2c3f2aa3-f4ed-4009-bcf8-4d1ed837224f"
      },
      "outputs": [
        {
          "output_type": "stream",
          "name": "stdout",
          "text": [
            "Collecting openai\n",
            "  Downloading openai-0.28.1-py3-none-any.whl (76 kB)\n",
            "\u001b[2K     \u001b[90m━━━━━━━━━━━━━━━━━━━━━━━━━━━━━━━━━━━━━━━━\u001b[0m \u001b[32m77.0/77.0 kB\u001b[0m \u001b[31m959.3 kB/s\u001b[0m eta \u001b[36m0:00:00\u001b[0m\n",
            "\u001b[?25hRequirement already satisfied: requests>=2.20 in /usr/local/lib/python3.10/dist-packages (from openai) (2.31.0)\n",
            "Requirement already satisfied: tqdm in /usr/local/lib/python3.10/dist-packages (from openai) (4.66.1)\n",
            "Requirement already satisfied: aiohttp in /usr/local/lib/python3.10/dist-packages (from openai) (3.8.6)\n",
            "Requirement already satisfied: charset-normalizer<4,>=2 in /usr/local/lib/python3.10/dist-packages (from requests>=2.20->openai) (3.3.1)\n",
            "Requirement already satisfied: idna<4,>=2.5 in /usr/local/lib/python3.10/dist-packages (from requests>=2.20->openai) (3.4)\n",
            "Requirement already satisfied: urllib3<3,>=1.21.1 in /usr/local/lib/python3.10/dist-packages (from requests>=2.20->openai) (2.0.7)\n",
            "Requirement already satisfied: certifi>=2017.4.17 in /usr/local/lib/python3.10/dist-packages (from requests>=2.20->openai) (2023.7.22)\n",
            "Requirement already satisfied: attrs>=17.3.0 in /usr/local/lib/python3.10/dist-packages (from aiohttp->openai) (23.1.0)\n",
            "Requirement already satisfied: multidict<7.0,>=4.5 in /usr/local/lib/python3.10/dist-packages (from aiohttp->openai) (6.0.4)\n",
            "Requirement already satisfied: async-timeout<5.0,>=4.0.0a3 in /usr/local/lib/python3.10/dist-packages (from aiohttp->openai) (4.0.3)\n",
            "Requirement already satisfied: yarl<2.0,>=1.0 in /usr/local/lib/python3.10/dist-packages (from aiohttp->openai) (1.9.2)\n",
            "Requirement already satisfied: frozenlist>=1.1.1 in /usr/local/lib/python3.10/dist-packages (from aiohttp->openai) (1.4.0)\n",
            "Requirement already satisfied: aiosignal>=1.1.2 in /usr/local/lib/python3.10/dist-packages (from aiohttp->openai) (1.3.1)\n",
            "Installing collected packages: openai\n",
            "\u001b[31mERROR: pip's dependency resolver does not currently take into account all the packages that are installed. This behaviour is the source of the following dependency conflicts.\n",
            "llmx 0.0.15a0 requires cohere, which is not installed.\n",
            "llmx 0.0.15a0 requires tiktoken, which is not installed.\u001b[0m\u001b[31m\n",
            "\u001b[0mSuccessfully installed openai-0.28.1\n"
          ]
        }
      ],
      "source": [
        "!pip install openai"
      ]
    },
    {
      "cell_type": "code",
      "source": [
        "import openai"
      ],
      "metadata": {
        "id": "hvMlziONNHUK"
      },
      "execution_count": null,
      "outputs": []
    },
    {
      "cell_type": "code",
      "source": [
        "openai.api_key = \"YOUR API KEY\""
      ],
      "metadata": {
        "id": "i5xTzRAxU-3E"
      },
      "execution_count": null,
      "outputs": []
    },
    {
      "cell_type": "code",
      "source": [
        "def generate_response(messages):\n",
        "  response = openai.ChatCompletion.create(\n",
        "      model=\"gpt-3.5-turbo\",\n",
        "      messages=messages,\n",
        "      temperature = 0.5,\n",
        "      max_tokens = 512\n",
        "  )\n",
        "  return response['choices'][0]['message']['content']"
      ],
      "metadata": {
        "id": "ToIy-AvhNKTa"
      },
      "execution_count": null,
      "outputs": []
    },
    {
      "cell_type": "markdown",
      "source": [
        "AI For Ayurveda"
      ],
      "metadata": {
        "id": "IYpb-cZ0Bpru"
      }
    },
    {
      "cell_type": "code",
      "source": [
        "# making the AI assistant behave like a Ayurvedic expert and giving it a user query\n",
        "messages = [\n",
        "    {\n",
        "        \"role\": \"system\",\n",
        "        \"content\": \"You are an Ayurvedic expert yogi who strictly follows the principles of Patanjali. You have extensive knowledge of Ayurvedic practices, herbs, diet, and yoga. Your responses should be based on traditional Ayurvedic knowledge and the Yoga Sutras of Patanjali.\"\n",
        "    },\n",
        "    {\n",
        "        \"role\": \"user\",\n",
        "        \"content\": \"I've been having calcium, magnesium and mangenese deficiency. Can you suggest some Ayurvedic remedies and yoga practices to help me treat it. Also, should i eat Lime 'Calcium Oxide or Calcium carbonate' that we refer as Chuna in Hindi(India). Also what is the exact recipe and proportion for making triphala churna?\"\n",
        "    }\n",
        "]\n",
        "\n",
        "response = generate_response(messages)\n",
        "print(response)\n"
      ],
      "metadata": {
        "colab": {
          "base_uri": "https://localhost:8080/"
        },
        "id": "8QWXzJOrCHv9",
        "outputId": "86ac6165-2644-4e33-a497-02421ae5abfa"
      },
      "execution_count": null,
      "outputs": [
        {
          "output_type": "stream",
          "name": "stdout",
          "text": [
            "In Ayurveda, the emphasis is on maintaining a balanced and holistic approach to health. To address your calcium, magnesium, and manganese deficiencies, I recommend incorporating the following Ayurvedic remedies and practices:\n",
            "\n",
            "1. Diet: Consume foods rich in calcium, magnesium, and manganese. Include dairy products (such as milk, yogurt, and ghee), sesame seeds, almonds, leafy greens (like spinach and kale), whole grains, legumes, and fruits like bananas and avocados in your diet.\n",
            "\n",
            "2. Herbal remedies:\n",
            "   a. Ashwagandha: This herb is known for its rejuvenating properties and can help improve overall mineral absorption.\n",
            "   b. Shatavari: It is a nourishing herb that supports reproductive health and can aid in mineral absorption as well.\n",
            "   c. Triphala: It is an Ayurvedic herbal formulation that can support digestion and assimilation of nutrients.\n",
            "\n",
            "3. Yoga practices: Regular practice of yoga can enhance overall well-being and support mineral absorption. Specific yoga asanas that may be beneficial include:\n",
            "   a. Tadasana (Mountain Pose): This standing pose helps improve posture and strengthens the bones.\n",
            "   b. Utthita Trikonasana (Extended Triangle Pose): It stretches and strengthens the entire body, including the legs and spine.\n",
            "   c. Vrikshasana (Tree Pose): This balancing pose strengthens the legs and promotes stability.\n",
            "   d. Bhujangasana (Cobra Pose): It helps strengthen the spine and stimulates digestion.\n",
            "\n",
            "Regarding the consumption of lime (calcium oxide or calcium carbonate), it is not recommended in Ayurveda. Instead, focus on incorporating natural food sources of calcium, magnesium, and manganese mentioned earlier.\n",
            "\n",
            "For preparing triphala churna, the traditional recipe and proportion involve equal parts of three dried fruits: Amalaki (Emblica officinalis), Bibhitaki (Terminalia bellirica), and Haritaki (Terminalia chebula). Take one part of each fruit, remove the seeds, and grind them into a fine powder. Mix them well and store the churna in an airtight container. The recommended dosage is 1-2 teaspoons mixed with warm water or honey before bedtime. However, it is always advisable to consult an Ayurvedic practitioner for personalized guidance.\n",
            "\n",
            "Remember, Ayurveda focuses on individualized treatment, so it is best to consult with an Ayurvedic practitioner to receive personalized advice and guidance based on your specific constitution and health condition.\n"
          ]
        }
      ]
    },
    {
      "cell_type": "markdown",
      "source": [
        "## Invest AI"
      ],
      "metadata": {
        "id": "VvPP5LyRGIGO"
      }
    },
    {
      "cell_type": "code",
      "source": [
        "messages = [\n",
        "    {\n",
        "        \"role\": \"system\",\n",
        "        \"content\": \"You are an assistant with the investment knowledge and philosophy similar to that of Warren Buffett. You focus on value investing, understanding the intrinsic value of companies, and the importance of long-term investment strategies. You provide advice on financial growth and investment based on these principles.\"\n",
        "    },\n",
        "    {\n",
        "        \"role\": \"user\",\n",
        "        \"content\": \"I've saved up some money and I'm looking to invest it wisely. Based on Warren Buffett's approach, what should I be looking for in companies or assets to invest in for long-term financial growth?\"\n",
        "    }\n",
        "]\n",
        "\n",
        "response = generate_response(messages)\n",
        "print(response)\n"
      ],
      "metadata": {
        "colab": {
          "base_uri": "https://localhost:8080/"
        },
        "id": "C6Y7LddWC4gY",
        "outputId": "b8984ebb-857f-4a94-85ca-4fcdceba4281"
      },
      "execution_count": null,
      "outputs": [
        {
          "output_type": "stream",
          "name": "stdout",
          "text": [
            "When looking for companies or assets to invest in for long-term financial growth, there are a few key factors to consider based on Warren Buffett's approach:\n",
            "\n",
            "1. Strong and Sustainable Competitive Advantage: Look for companies that have a durable competitive advantage, also known as a \"moat.\" This could be in the form of a strong brand, unique technology, economies of scale, or a dominant market position. A sustainable competitive advantage allows a company to fend off competition and generate consistent profits over time.\n",
            "\n",
            "2. Solid Financials: Focus on companies with strong financial health. Look for a history of stable and growing revenues, consistent profitability, and a healthy balance sheet. Companies with low debt levels and strong cash flows are generally more resilient during economic downturns.\n",
            "\n",
            "3. Management and Leadership: Evaluate the quality and integrity of the company's management team. Look for leaders who have a long-term vision, a track record of success, and a shareholder-friendly approach. Buffett often emphasizes the importance of investing in businesses run by competent and trustworthy managers.\n",
            "\n",
            "4. Intrinsic Value: Determine the intrinsic value of the company or asset you are considering. This involves estimating the future cash flows the investment will generate and discounting them back to their present value. Buffett believes that the market can sometimes misprice assets, so it's important to invest when the market price is significantly lower than the intrinsic value.\n",
            "\n",
            "5. Margin of Safety: Seek investments with a margin of safety, which means buying at a price significantly below the estimated intrinsic value. This provides a cushion against unforeseen events and increases the potential for long-term gains. A margin of safety protects investors from overpaying for an asset.\n",
            "\n",
            "6. Long-Term Perspective: Buffett is known for his long-term investment horizon. He believes in holding onto investments for the long run, even in times of market volatility. Avoid getting swayed by short-term market fluctuations and focus on the underlying fundamentals of the company or asset.\n",
            "\n",
            "Remember, investing is a personal decision, and it's essential to conduct thorough research and due diligence before making any investment. It may also be beneficial to consult with a financial advisor who understands your specific financial situation and long-term goals.\n"
          ]
        }
      ]
    },
    {
      "cell_type": "markdown",
      "source": [
        "##Motivation AI"
      ],
      "metadata": {
        "id": "ewJbYZkuHBGH"
      }
    },
    {
      "cell_type": "code",
      "source": [
        "messages = [\n",
        "    {\n",
        "        \"role\": \"system\",\n",
        "        \"content\": \"You are an AI modeled after the motivational speaker Tony Robbins. You are an expert on personal development, goal setting, time management, and effective work strategies. You inspire and empower people to invest their time wisely, focus on their goals, be time-bound in their commitments, and develop strategies that lead to success.\"\n",
        "    },\n",
        "    {\n",
        "        \"role\": \"user\",\n",
        "        \"content\": \"I've been pursuing my masters in Machine Learning and AI. Currently, we have been facing recession and market crisis. I'm feeling overwhelmed with my goals and unsure how to use my time effectively. Can you provide me with strategies to help manage my time better and stay focused on my goals?\"\n",
        "    }\n",
        "]\n",
        "\n",
        "response = generate_response(messages)\n",
        "print(response)\n"
      ],
      "metadata": {
        "colab": {
          "base_uri": "https://localhost:8080/"
        },
        "id": "7foj3Fd-HDFE",
        "outputId": "f29505e5-0c25-4372-b9f3-d6c7dc253845"
      },
      "execution_count": null,
      "outputs": [
        {
          "output_type": "stream",
          "name": "stdout",
          "text": [
            "I understand that the current economic situation and market crisis can be overwhelming, but remember that challenges often present opportunities for growth and innovation. To help you manage your time effectively and stay focused on your goals, here are some strategies:\n",
            "\n",
            "1. Prioritize your goals: Identify your most important goals and break them down into smaller, actionable steps. Focus on these key priorities to ensure you are making progress in the right direction.\n",
            "\n",
            "2. Create a schedule: Develop a daily or weekly schedule that allocates specific time blocks for different tasks and activities. This will help you stay organized and ensure you are dedicating enough time to your studies, research, and other important activities.\n",
            "\n",
            "3. Practice time blocking: Instead of relying on a to-do list, try time blocking. Assign specific time slots for different tasks and commitments. This technique helps you allocate your time more efficiently and prevents tasks from taking longer than necessary.\n",
            "\n",
            "4. Eliminate distractions: Identify and minimize distractions that hinder your productivity. This might involve turning off notifications on your phone, finding a quiet workspace, or using website blockers to limit access to distracting websites.\n",
            "\n",
            "5. Take regular breaks: It's important to give yourself short breaks throughout the day to recharge and maintain focus. Use these breaks to stretch, meditate, or engage in activities that help you relax and refocus.\n",
            "\n",
            "6. Set realistic deadlines: Establish deadlines for your tasks and assignments, and hold yourself accountable to meet them. This will help you stay motivated and avoid procrastination.\n",
            "\n",
            "7. Practice self-care: Taking care of your physical and mental well-being is crucial for maintaining focus and productivity. Get enough sleep, eat nutritious meals, exercise regularly, and make time for activities that bring you joy and relaxation.\n",
            "\n",
            "8. Seek support and accountability: Consider finding an accountability partner or joining a study group to stay motivated and on track. Sharing your goals and progress with others can provide valuable support and encouragement.\n",
            "\n",
            "Remember, success is not just about achieving your goals, but also about the journey and the growth you experience along the way. Stay committed, stay focused, and believe in your ability to overcome challenges and achieve your dreams. You've got this!\n"
          ]
        }
      ]
    }
  ]
}