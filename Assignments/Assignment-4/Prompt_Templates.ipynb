{
  "nbformat": 4,
  "nbformat_minor": 0,
  "metadata": {
    "colab": {
      "provenance": [],
      "toc_visible": true
    },
    "kernelspec": {
      "name": "python3",
      "display_name": "Python 3"
    },
    "language_info": {
      "name": "python"
    }
  },
  "cells": [
    {
      "cell_type": "markdown",
      "source": [
        "## Cooking OpenAI"
      ],
      "metadata": {
        "id": "tJe3YKZ2ehsR"
      }
    },
    {
      "cell_type": "code",
      "execution_count": null,
      "metadata": {
        "colab": {
          "base_uri": "https://localhost:8080/"
        },
        "id": "-qK5zYcONDf-",
        "outputId": "0667f13a-4daa-44bf-9835-67ee37d99c4d"
      },
      "outputs": [
        {
          "output_type": "stream",
          "name": "stdout",
          "text": [
            "Requirement already satisfied: openai in /usr/local/lib/python3.10/dist-packages (0.28.1)\n",
            "Requirement already satisfied: requests>=2.20 in /usr/local/lib/python3.10/dist-packages (from openai) (2.31.0)\n",
            "Requirement already satisfied: tqdm in /usr/local/lib/python3.10/dist-packages (from openai) (4.66.1)\n",
            "Requirement already satisfied: aiohttp in /usr/local/lib/python3.10/dist-packages (from openai) (3.8.6)\n",
            "Requirement already satisfied: charset-normalizer<4,>=2 in /usr/local/lib/python3.10/dist-packages (from requests>=2.20->openai) (3.3.1)\n",
            "Requirement already satisfied: idna<4,>=2.5 in /usr/local/lib/python3.10/dist-packages (from requests>=2.20->openai) (3.4)\n",
            "Requirement already satisfied: urllib3<3,>=1.21.1 in /usr/local/lib/python3.10/dist-packages (from requests>=2.20->openai) (2.0.7)\n",
            "Requirement already satisfied: certifi>=2017.4.17 in /usr/local/lib/python3.10/dist-packages (from requests>=2.20->openai) (2023.7.22)\n",
            "Requirement already satisfied: attrs>=17.3.0 in /usr/local/lib/python3.10/dist-packages (from aiohttp->openai) (23.1.0)\n",
            "Requirement already satisfied: multidict<7.0,>=4.5 in /usr/local/lib/python3.10/dist-packages (from aiohttp->openai) (6.0.4)\n",
            "Requirement already satisfied: async-timeout<5.0,>=4.0.0a3 in /usr/local/lib/python3.10/dist-packages (from aiohttp->openai) (4.0.3)\n",
            "Requirement already satisfied: yarl<2.0,>=1.0 in /usr/local/lib/python3.10/dist-packages (from aiohttp->openai) (1.9.2)\n",
            "Requirement already satisfied: frozenlist>=1.1.1 in /usr/local/lib/python3.10/dist-packages (from aiohttp->openai) (1.4.0)\n",
            "Requirement already satisfied: aiosignal>=1.1.2 in /usr/local/lib/python3.10/dist-packages (from aiohttp->openai) (1.3.1)\n"
          ]
        }
      ],
      "source": [
        "!pip install openai"
      ]
    },
    {
      "cell_type": "code",
      "source": [
        "import openai"
      ],
      "metadata": {
        "id": "hvMlziONNHUK"
      },
      "execution_count": null,
      "outputs": []
    },
    {
      "cell_type": "code",
      "source": [
        "openai.api_key = \"YOUR API KEY\""
      ],
      "metadata": {
        "id": "i5xTzRAxU-3E"
      },
      "execution_count": null,
      "outputs": []
    },
    {
      "cell_type": "code",
      "source": [
        "def generate_response(prompt, context):\n",
        "    full_prompt = context + \"\\n\" + prompt\n",
        "    try:\n",
        "      response = openai.Completion.create(\n",
        "        engine=\"text-davinci-003\",\n",
        "        prompt=full_prompt,\n",
        "        max_tokens=100,\n",
        "        temperature=0.5\n",
        "      )\n",
        "    except Exception as ex:\n",
        "      print(ex)\n",
        "    return response.choices[0].text.strip()"
      ],
      "metadata": {
        "id": "ToIy-AvhNKTa"
      },
      "execution_count": null,
      "outputs": []
    },
    {
      "cell_type": "markdown",
      "source": [
        "## Zero-Shot Prompting Pattern"
      ],
      "metadata": {
        "id": "qXV4BNGkepwf"
      }
    },
    {
      "cell_type": "code",
      "source": [
        "# Success Case\n",
        "context_zero_shot = \"Language Model Interaction:\"\n",
        "prompt_zero_shot_success = \"Explain the theory of relativity.\"\n",
        "print(\"Success Case:\", generate_response(prompt_zero_shot_success, context_zero_shot))"
      ],
      "metadata": {
        "colab": {
          "base_uri": "https://localhost:8080/"
        },
        "id": "UrEYnSioutGe",
        "outputId": "f585741b-2c2b-4945-8211-dfc3f3983cc6"
      },
      "execution_count": null,
      "outputs": [
        {
          "output_type": "stream",
          "name": "stdout",
          "text": [
            "Success Case: The theory of relativity is a scientific theory developed by Albert Einstein in the early 1900s. It states that the laws of physics are the same for all observers, regardless of their relative motion, and that the speed of light in a vacuum is the same for all observers, regardless of their relative motion. The theory of relativity also states that space and time are intertwined, and that the mass and energy of an object are related. In addition, the theory of relativity explains the behavior of objects when\n"
          ]
        }
      ]
    },
    {
      "cell_type": "code",
      "source": [
        "\n",
        "# Failure Case\n",
        "prompt_zero_shot_failure = \"Explain that theory with E and m.\"\n",
        "print(\"Failure Case:\", generate_response(prompt_zero_shot_failure, context_zero_shot))"
      ],
      "metadata": {
        "colab": {
          "base_uri": "https://localhost:8080/"
        },
        "id": "135nzQdnuuhD",
        "outputId": "1fee2b41-f185-4211-dd1d-2a2b44550c3f"
      },
      "execution_count": null,
      "outputs": [
        {
          "output_type": "stream",
          "name": "stdout",
          "text": [
            "Failure Case: Language Model Interaction (LMI) is a theory that proposes that the meaning of a text is determined by the interaction between a language model and a mental model. The language model is composed of the words, phrases, and sentences used to convey a message, while the mental model is composed of the beliefs, values, and expectations of the reader. The interaction between the two models allows the reader to interpret the text in the context of their own beliefs and values. This theory suggests that the\n"
          ]
        }
      ]
    },
    {
      "cell_type": "markdown",
      "source": [
        "## One-Shot Prompting Pattern\n"
      ],
      "metadata": {
        "id": "DGS9HNObvA5e"
      }
    },
    {
      "cell_type": "code",
      "source": [
        "# Success Case\n",
        "context_one_shot = \"Language Model Interaction: When asked about a capital of a country, provide an informative response.\"\n",
        "prompt_one_shot_success = \"What is the capital of France? Example: The capital of Italy is Rome, which is famous for its historical architecture.\"\n",
        "print(\"Success Case:\", generate_response(prompt_one_shot_success, context_one_shot))"
      ],
      "metadata": {
        "colab": {
          "base_uri": "https://localhost:8080/"
        },
        "id": "GRX5a-xEuucK",
        "outputId": "a88a718a-5d34-43d5-f862-07813c6decf9"
      },
      "execution_count": null,
      "outputs": [
        {
          "output_type": "stream",
          "name": "stdout",
          "text": [
            "Success Case: The capital of France is Paris, which is renowned for its iconic monuments such as the Eiffel Tower and the Louvre. It is also known for its fashion, art, and gastronomy.\n"
          ]
        }
      ]
    },
    {
      "cell_type": "code",
      "source": [
        "# Failure Case\n",
        "prompt_one_shot_failure = \"What is the capital of France? Example: Apples are usually red or green.\"\n",
        "print(\"Failure Case:\", generate_response(prompt_one_shot_failure, context_one_shot))"
      ],
      "metadata": {
        "colab": {
          "base_uri": "https://localhost:8080/"
        },
        "id": "9n32eNgWuuSp",
        "outputId": "467b2f33-bc55-437e-8277-c9132dd508ee"
      },
      "execution_count": null,
      "outputs": [
        {
          "output_type": "stream",
          "name": "stdout",
          "text": [
            "Failure Case: The capital of France is Paris.\n"
          ]
        }
      ]
    },
    {
      "cell_type": "markdown",
      "source": [
        "## Chain of Thought Prompting Pattern"
      ],
      "metadata": {
        "id": "SP9Ya4E2vHd0"
      }
    },
    {
      "cell_type": "code",
      "source": [
        "# Success Case\n",
        "context_chain_thought = \"Problem Solving Exercise:\"\n",
        "prompt_chain_thought_success = \"If I have 3 apples and you give me 2 more, how many apples do I have in total? Show your work.\"\n",
        "print(\"Success Case:\", generate_response(prompt_chain_thought_success, context_chain_thought))"
      ],
      "metadata": {
        "colab": {
          "base_uri": "https://localhost:8080/"
        },
        "id": "9qlr4kBAuuJG",
        "outputId": "a99af3b0-491f-4e00-f138-066e0d291ed9"
      },
      "execution_count": null,
      "outputs": [
        {
          "output_type": "stream",
          "name": "stdout",
          "text": [
            "Success Case: 3 + 2 = 5\n",
            "\n",
            "I have 5 apples in total.\n"
          ]
        }
      ]
    },
    {
      "cell_type": "code",
      "source": [
        "# Failure Case\n",
        "prompt_chain_thought_failure = \"If I have 3 apples and you give me 2 more, how many do I have?\"\n",
        "print(\"Failure Case:\", generate_response(prompt_chain_thought_failure, context_chain_thought))"
      ],
      "metadata": {
        "colab": {
          "base_uri": "https://localhost:8080/"
        },
        "id": "efWOmlQGuuFM",
        "outputId": "03352ce7-7f6c-43c8-fd0f-6f2f2ff01ccb"
      },
      "execution_count": null,
      "outputs": [
        {
          "output_type": "stream",
          "name": "stdout",
          "text": [
            "Failure Case: I have 5 apples.\n"
          ]
        }
      ]
    },
    {
      "cell_type": "markdown",
      "source": [
        "## Tree of Thought Pattern"
      ],
      "metadata": {
        "id": "7BQdPBaPvPxP"
      }
    },
    {
      "cell_type": "code",
      "source": [
        "# Success Case\n",
        "context_tree_thought = \"Consider different possibilities and their outcomes:\"\n",
        "prompt_tree_thought_success = \"What could be the consequences of printing more money for an economy? Consider various economic aspects.\"\n",
        "print(\"Success Case:\", generate_response(prompt_tree_thought_success, context_tree_thought))"
      ],
      "metadata": {
        "colab": {
          "base_uri": "https://localhost:8080/"
        },
        "id": "-ZU-bssfuuAr",
        "outputId": "ef4d2555-950e-4907-c278-120bca8ed965"
      },
      "execution_count": null,
      "outputs": [
        {
          "output_type": "stream",
          "name": "stdout",
          "text": [
            "Success Case: Inflation: Printing more money can lead to an increase in prices, as the money supply increases but the amount of goods and services available does not. This is known as inflation.\n",
            "\n",
            "Interest rates: If the money supply increases, the central bank may need to increase interest rates to prevent the economy from overheating.\n",
            "\n",
            "Currency devaluation: Printing more money can lead to a devaluation of the currency, as there is more money in circulation relative to the amount of goods and\n"
          ]
        }
      ]
    },
    {
      "cell_type": "code",
      "source": [
        "# Failure Case\n",
        "prompt_tree_thought_failure = \"What happens when a country prints more money?\"\n",
        "print(\"Failure Case:\", generate_response(prompt_tree_thought_failure, context_tree_thought))"
      ],
      "metadata": {
        "colab": {
          "base_uri": "https://localhost:8080/"
        },
        "id": "9-FXkIMlut75",
        "outputId": "6e27ac46-7289-4cc6-8a11-758ae07fc8e4"
      },
      "execution_count": null,
      "outputs": [
        {
          "output_type": "stream",
          "name": "stdout",
          "text": [
            "Failure Case: This can have a variety of outcomes. In the short term, it can lead to an increase in economic activity as more money is available for people to spend. However, in the long run, it can lead to inflation as prices rise due to the increased money supply. Additionally, it can lead to an erosion of the value of the currency as it becomes less valuable relative to other currencies.\n"
          ]
        }
      ]
    },
    {
      "cell_type": "markdown",
      "source": [
        "## Graph of Thought Pattern"
      ],
      "metadata": {
        "id": "p5Wb_j05vbDh"
      }
    },
    {
      "cell_type": "code",
      "source": [
        "# Success Case\n",
        "context_graph_thought = \"Analyze the situation by considering the interrelated factors:\"\n",
        "prompt_graph_thought_success = \"Discuss the impact of social media on public opinion and democracy. Consider the interplay between information dissemination, public engagement, and political campaigns.\"\n",
        "print(\"Success Case:\", generate_response(prompt_graph_thought_success, context_graph_thought))"
      ],
      "metadata": {
        "colab": {
          "base_uri": "https://localhost:8080/"
        },
        "id": "YSnkh-Beut2G",
        "outputId": "b0b1e54f-4700-4753-ca26-0136abac6397"
      },
      "execution_count": null,
      "outputs": [
        {
          "output_type": "stream",
          "name": "stdout",
          "text": [
            "Success Case: Social media has had a tremendous impact on public opinion and democracy. It has enabled the rapid dissemination of information, allowing people to become more informed about current events and political issues. This has led to increased public engagement in politics, as people are more likely to discuss and debate issues they are informed about.\n",
            "\n",
            "At the same time, social media has enabled political campaigns to reach a much wider audience than ever before. They can easily target specific audiences with tailored messages and use data-driven techniques\n"
          ]
        }
      ]
    },
    {
      "cell_type": "code",
      "source": [
        "# Failure Case\n",
        "prompt_graph_thought_failure = \"How does social media affect public opinion?\"\n",
        "print(\"Failure Case:\", generate_response(prompt_graph_thought_failure, context_graph_thought))\n"
      ],
      "metadata": {
        "colab": {
          "base_uri": "https://localhost:8080/"
        },
        "id": "xDrATHUeut09",
        "outputId": "64887f0e-2e72-4b26-dba6-df6dae12b869"
      },
      "execution_count": null,
      "outputs": [
        {
          "output_type": "stream",
          "name": "stdout",
          "text": [
            "Failure Case: Social media has become an increasingly important tool for influencing public opinion. It can be used to spread messages, build relationships, and create an online presence. By connecting people from all over the world, social media has the power to shape and influence public opinion.\n",
            "\n",
            "Social media can be used to spread information quickly and widely, and it provides a platform for people to express their opinions. This helps create a public discourse that can shape public opinion. It also allows people to connect with each other\n"
          ]
        }
      ]
    },
    {
      "cell_type": "markdown",
      "source": [
        "## Prompt Chaining Pattern"
      ],
      "metadata": {
        "id": "ROXl30Oqvifa"
      }
    },
    {
      "cell_type": "code",
      "source": [
        "# Success Case: We will simulate two chained prompts, one leading into the next.\n",
        "context_prompt_chaining = \"Step-by-step Interaction:\"\n",
        "prompt_chaining_success_1 = \"What are the health benefits of eating more vegetables?\"\n",
        "response_chaining_success_1 = generate_response(prompt_chaining_success_1, context_prompt_chaining)\n",
        "prompt_chaining_success_2 = f\"Given these benefits, which vegetables would you recommend adding to a daily diet?\"\n",
        "response_chaining_success_2 = generate_response(prompt_chaining_success_2, context_prompt_chaining)\n",
        "\n",
        "print(\"Success Case Prompt 1:\", response_chaining_success_1)\n",
        "print(\"Success Case Prompt 2:\", response_chaining_success_2)"
      ],
      "metadata": {
        "colab": {
          "base_uri": "https://localhost:8080/"
        },
        "id": "YvEv03bquty8",
        "outputId": "733aaca0-86eb-4661-983c-74fb6974c596"
      },
      "execution_count": null,
      "outputs": [
        {
          "output_type": "stream",
          "name": "stdout",
          "text": [
            "Success Case Prompt 1: Step 1: Research the health benefits of eating more vegetables. \n",
            "\n",
            "Step 2: Make a list of the health benefits of eating more vegetables. \n",
            "\n",
            "Step 3: Read through the list and identify the most important benefits. \n",
            "\n",
            "Step 4: Explain the most important benefits to the person asking the question. \n",
            "\n",
            "Step 5: Suggest ways to incorporate more vegetables into the person's diet.\n",
            "Success Case Prompt 2: Step 1: Ask the person what vegetables they already eat on a daily basis.\n",
            "\n",
            "Step 2: Explain the benefits of adding more vegetables to the diet.\n",
            "\n",
            "Step 3: Ask the person which specific vegetables they would like to add to their daily diet.\n",
            "\n",
            "Step 4: Provide suggestions of vegetables that are high in vitamins and minerals, such as kale, spinach, broccoli, carrots, and bell peppers.\n",
            "\n",
            "Step 5: Ask the person if they have any questions or\n"
          ]
        }
      ]
    },
    {
      "cell_type": "code",
      "source": [
        "# Failure Case: The second prompt does not logically follow from the first response.\n",
        "prompt_chaining_failure_1 = \"What are the health benefits of eating more vegetables?\"\n",
        "response_chaining_failure_1 = generate_response(prompt_chaining_failure_1, context_prompt_chaining)\n",
        "prompt_chaining_failure_2 = \"How does one repair a bicycle tire?\"\n",
        "response_chaining_failure_2 = generate_response(prompt_chaining_failure_2, context_prompt_chaining)\n",
        "\n",
        "print(\"Failure Case Prompt 1:\", response_chaining_failure_1)\n",
        "print(\"Failure Case Prompt 2:\", response_chaining_failure_2)\n"
      ],
      "metadata": {
        "colab": {
          "base_uri": "https://localhost:8080/"
        },
        "id": "90DENszputt7",
        "outputId": "4b3f0d65-3879-44b3-e3f2-cd059eb6d131"
      },
      "execution_count": null,
      "outputs": [
        {
          "output_type": "stream",
          "name": "stdout",
          "text": [
            "Failure Case Prompt 1: Step 1: Research the health benefits of eating more vegetables. \n",
            "\n",
            "Step 2: Identify the most important benefits and compile them into a list. \n",
            "\n",
            "Step 3: Present the list of benefits to the person asking the question. \n",
            "\n",
            "Step 4: Provide additional information and resources to support the benefits. \n",
            "\n",
            "Step 5: Answer any follow-up questions the person may have.\n",
            "Failure Case Prompt 2: 1. Gather the necessary tools: tire levers, a patch kit, and a pump.\n",
            "\n",
            "2. Remove the tire from the wheel by using the tire levers to pry the tire away from the wheel.\n",
            "\n",
            "3. Inspect the tire for any visible damage or punctures.\n",
            "\n",
            "4. If there is a puncture, use the patch kit to repair the tire.\n",
            "\n",
            "5. Re-inflate the tire using the pump.\n",
            "\n",
            "6.\n"
          ]
        }
      ]
    },
    {
      "cell_type": "markdown",
      "source": [
        "## ReAct Pattern"
      ],
      "metadata": {
        "id": "N1_zXlZ3v4YT"
      }
    },
    {
      "cell_type": "code",
      "source": [
        "# Success Case\n",
        "context_react = \"Customer Service Scenario:\"\n",
        "prompt_react_success = \"A customer is unhappy with a late delivery. How would you respond to their complaint?\"\n",
        "print(\"Success Case:\", generate_response(prompt_react_success, context_react))"
      ],
      "metadata": {
        "colab": {
          "base_uri": "https://localhost:8080/"
        },
        "id": "RqCcl4frutm5",
        "outputId": "a94efd0f-6d9b-4421-c7df-596fb69ad37c"
      },
      "execution_count": null,
      "outputs": [
        {
          "output_type": "stream",
          "name": "stdout",
          "text": [
            "Success Case: I apologize for the late delivery and understand your frustration. I will do everything I can to ensure that this does not happen again. I will look into the cause of the delay and see if there is anything that can be done to improve our delivery times. In the meantime, I will provide you with a refund for the inconvenience.\n"
          ]
        }
      ]
    },
    {
      "cell_type": "code",
      "source": [
        "# Failure Case\n",
        "prompt_react_failure = \"A customer is unhappy with a late delivery.\"\n",
        "print(\"Failure Case:\", generate_response(prompt_react_failure, context_react))"
      ],
      "metadata": {
        "colab": {
          "base_uri": "https://localhost:8080/"
        },
        "id": "7sz8dE4RutjB",
        "outputId": "3a603d40-4b37-43b9-c473-c5b34c94cbb9"
      },
      "execution_count": null,
      "outputs": [
        {
          "output_type": "stream",
          "name": "stdout",
          "text": [
            "Failure Case: Customer Service Representative: I apologize for the late delivery. I understand that this is an inconvenience and I want to make it right. Can you tell me what happened?\n"
          ]
        }
      ]
    },
    {
      "cell_type": "markdown",
      "source": [
        "## Game Plan Prompting"
      ],
      "metadata": {
        "id": "75t3CZ9Kwp1G"
      }
    },
    {
      "cell_type": "code",
      "source": [
        "# Success Case\n",
        "context_game_plan = \"Strategic Planning Guidance:\"\n",
        "prompt_game_plan_success = \"How should a new company enter a competitive market? Outline a step-by-step strategy.\"\n",
        "print(\"Success Case:\", generate_response(prompt_game_plan_success, context_game_plan))"
      ],
      "metadata": {
        "colab": {
          "base_uri": "https://localhost:8080/"
        },
        "id": "8-_hSE6xutf4",
        "outputId": "39a2b84f-e229-4ba3-dbac-acd9ae05fc12"
      },
      "execution_count": null,
      "outputs": [
        {
          "output_type": "stream",
          "name": "stdout",
          "text": [
            "Success Case: 1. Conduct Market Research: Conduct thorough market research to gain a comprehensive understanding of the competitive market. Analyze the current market trends, customer needs, and the competitive landscape.\n",
            "\n",
            "2. Identify a Niche: Identify a niche in the market that your company can capitalize on, and focus on providing a unique value proposition.\n",
            "\n",
            "3. Create a Brand: Develop a strong brand identity that resonates with your target audience and sets your company apart from the competition.\n"
          ]
        }
      ]
    },
    {
      "cell_type": "code",
      "source": [
        "# Failure Case\n",
        "prompt_game_plan_failure = \"How does a new company make itself known in a competitive market?\"\n",
        "print(\"Failure Case:\", generate_response(prompt_game_plan_failure, context_game_plan))"
      ],
      "metadata": {
        "colab": {
          "base_uri": "https://localhost:8080/"
        },
        "id": "jktEeeeButdq",
        "outputId": "98d1f0fe-4718-4932-f59c-bcec35917934"
      },
      "execution_count": null,
      "outputs": [
        {
          "output_type": "stream",
          "name": "stdout",
          "text": [
            "Failure Case: 1. Develop a Unique Value Proposition: Identify what makes your business different from competitors and how it can provide value to customers.\n",
            "\n",
            "2. Develop a Comprehensive Marketing Strategy: Create a plan that outlines how you will market your business, including the strategies you will use to reach your target audience.\n",
            "\n",
            "3. Leverage Online Marketing Tactics: Utilize digital marketing tactics such as SEO, content marketing, and social media to reach potential customers.\n",
            "\n",
            "4. Network and Build\n"
          ]
        }
      ]
    },
    {
      "cell_type": "markdown",
      "source": [
        "## Template Pattern"
      ],
      "metadata": {
        "id": "3WSy7n3rwx7k"
      }
    },
    {
      "cell_type": "code",
      "source": [
        "# Success Case\n",
        "context_template = \"Fill in the blanks with appropriate responses:\"\n",
        "prompt_template_success = \"Dear [Name], thank you for contacting us about [Issue]. We are sorry to hear that you are experiencing [Problem]. Our team will [Action].\"\n",
        "print(\"Success Case:\", generate_response(prompt_template_success, context_template))\n",
        "\n"
      ],
      "metadata": {
        "colab": {
          "base_uri": "https://localhost:8080/"
        },
        "id": "YTmQpJFQutOI",
        "outputId": "78203060-0f2a-4311-a17b-42e4e888066b"
      },
      "execution_count": null,
      "outputs": [
        {
          "output_type": "stream",
          "name": "stdout",
          "text": [
            "Success Case: Please let us know if you have any further questions.\n",
            "\n",
            "Dear [John], thank you for contacting us about [your order]. We are sorry to hear that you are experiencing [a delay in delivery]. Our team will [look into the issue right away]. Please let us know if you have any further questions.\n"
          ]
        }
      ]
    },
    {
      "cell_type": "code",
      "source": [
        "# Failure Case\n",
        "prompt_template_failure = \"Write a thank you note to a customer who contacted us.\"\n",
        "print(\"Failure Case:\", generate_response(prompt_template_failure, context_template))"
      ],
      "metadata": {
        "colab": {
          "base_uri": "https://localhost:8080/"
        },
        "id": "vJ-I49WUw4yP",
        "outputId": "79bf8fa5-738b-47e2-ab35-944f6bbd83fc"
      },
      "execution_count": null,
      "outputs": [
        {
          "output_type": "stream",
          "name": "stdout",
          "text": [
            "Failure Case: Dear [Name], \n",
            "\n",
            "Thank you for contacting us. We truly appreciate your interest in our products and services. We are committed to providing our customers with the highest quality of service and we are glad that you chose to reach out to us. \n",
            "\n",
            "We look forward to continuing to serve you in the future. \n",
            "\n",
            "Sincerely, \n",
            "[Your Name]\n"
          ]
        }
      ]
    },
    {
      "cell_type": "markdown",
      "source": [
        "## Recipe Pattern"
      ],
      "metadata": {
        "id": "gB73aZIrw8VF"
      }
    },
    {
      "cell_type": "code",
      "source": [
        "# Success Case\n",
        "context_recipe = \"How-To Guide Creation:\"\n",
        "prompt_recipe_success = \"Write a guide on how to bake chocolate chip cookies. Start with the list of ingredients, then the preparation steps, followed by the baking instructions.\"\n",
        "print(\"Success Case:\", generate_response(prompt_recipe_success, context_recipe))\n"
      ],
      "metadata": {
        "colab": {
          "base_uri": "https://localhost:8080/"
        },
        "id": "HAbHWxuUw4ua",
        "outputId": "47a3ce5e-8225-4dba-c45b-7f0f5bf2e823"
      },
      "execution_count": null,
      "outputs": [
        {
          "output_type": "stream",
          "name": "stdout",
          "text": [
            "Success Case: Ingredients:\n",
            "- 2 and ¼ cups all-purpose flour\n",
            "- 1 teaspoon baking soda\n",
            "- 1 teaspoon salt\n",
            "- 1 cup (2 sticks) butter, softened\n",
            "- ¾ cup granulated sugar\n",
            "- ¾ cup packed brown sugar\n",
            "- 1 teaspoon vanilla extract\n",
            "- 2 large eggs\n",
            "- 2 cups semi-sweet chocolate chips\n",
            "\n",
            "Preparation Steps:\n",
            "\n",
            "1. Preheat oven to 375°F.\n",
            "\n",
            "2. In a medium bowl\n"
          ]
        }
      ]
    },
    {
      "cell_type": "code",
      "source": [
        "# Failure Case\n",
        "prompt_recipe_failure = \"Explain how to make cookies.\"\n",
        "print(\"Failure Case:\", generate_response(prompt_recipe_failure, context_recipe))"
      ],
      "metadata": {
        "colab": {
          "base_uri": "https://localhost:8080/"
        },
        "id": "abOx9hWOw4se",
        "outputId": "99ead7f5-1fb1-40f4-d604-4d6b1b558857"
      },
      "execution_count": null,
      "outputs": [
        {
          "output_type": "stream",
          "name": "stdout",
          "text": [
            "Failure Case: 1. Preheat the oven to 375 degrees Fahrenheit.\n",
            "\n",
            "2. Gather the necessary ingredients. You will need: 2 cups of all-purpose flour, 1 teaspoon of baking soda, 1 teaspoon of salt, 1 cup of butter (at room temperature), 3/4 cup of granulated sugar, 3/4 cup of packed brown sugar, 1 teaspoon of vanilla extract, 2 large eggs, 2 cups of semi-sweet chocolate chips.\n",
            "\n",
            "3. In a medium bowl\n"
          ]
        }
      ]
    },
    {
      "cell_type": "markdown",
      "source": [
        "## Ask for Input Pattern"
      ],
      "metadata": {
        "id": "_EBRnHBBxKkB"
      }
    },
    {
      "cell_type": "code",
      "source": [
        "# Success Case\n",
        "context_ask_input = \"Interactive User Engagement:\"\n",
        "prompt_ask_input_success = \"To help you with your tech issue, could you please tell me what operating system you're using?\"\n",
        "print(\"Success Case:\", generate_response(prompt_ask_input_success, context_ask_input))"
      ],
      "metadata": {
        "colab": {
          "base_uri": "https://localhost:8080/"
        },
        "id": "qfba9yYdw4nh",
        "outputId": "0b38cb32-d886-42f0-d5b4-6521679aac8a"
      },
      "execution_count": null,
      "outputs": [
        {
          "output_type": "stream",
          "name": "stdout",
          "text": [
            "Success Case: \n"
          ]
        }
      ]
    },
    {
      "cell_type": "code",
      "source": [
        "# Failure Case\n",
        "prompt_ask_input_failure = \"Provide tech support.\"\n",
        "print(\"Failure Case:\", generate_response(prompt_ask_input_failure, context_ask_input))"
      ],
      "metadata": {
        "colab": {
          "base_uri": "https://localhost:8080/"
        },
        "id": "lDW-Ssm-w4l1",
        "outputId": "c50bff6d-7b81-4c17-eba0-1d8764caf0d5"
      },
      "execution_count": null,
      "outputs": [
        {
          "output_type": "stream",
          "name": "stdout",
          "text": [
            "Failure Case: Interactive user engagement is a way to provide users with a personal connection to your product or service. It involves using various techniques to engage users and make them feel like they are part of the process. This can include providing tech support, offering personalized advice, and creating interactive experiences that allow users to explore and learn more about your product or service. Additionally, interactive user engagement can involve providing users with resources to help them better understand or use your product or service. This can include tutorials, videos\n"
          ]
        }
      ]
    },
    {
      "cell_type": "markdown",
      "source": [
        "## Tail Generation Pattern"
      ],
      "metadata": {
        "id": "a37T7464xPss"
      }
    },
    {
      "cell_type": "code",
      "source": [
        "# Success Case\n",
        "context_tail_generation = \"Story Continuation:\"\n",
        "prompt_tail_generation_success = \"Once upon a time, in a land far away, there was a castle. The castle was home to a young prince who...\"\n",
        "print(\"Success Case:\", generate_response(prompt_tail_generation_success, context_tail_generation))"
      ],
      "metadata": {
        "colab": {
          "base_uri": "https://localhost:8080/"
        },
        "id": "mtajrP8Xw4h4",
        "outputId": "b0834728-228a-4a34-dded-4ddca6aaacb9"
      },
      "execution_count": null,
      "outputs": [
        {
          "output_type": "stream",
          "name": "stdout",
          "text": [
            "Success Case: lived a life of luxury and ease. Every day, the prince would wander the halls of the castle, exploring the many rooms and corridors. He would often find himself in the castle's library, where he would read and learn about the world around him.\n",
            "\n",
            "One day, while exploring the library, the prince stumbled upon a book that contained a secret passage. He followed the passage and found himself in a hidden chamber, filled with ancient artifacts and treasures. He was amazed at the wealth of knowledge\n"
          ]
        }
      ]
    },
    {
      "cell_type": "code",
      "source": [
        "# Failure Case\n",
        "prompt_tail_generation_failure = \"Start a story about a castle.\"\n",
        "print(\"Failure Case:\", generate_response(prompt_tail_generation_failure, context_tail_generation))"
      ],
      "metadata": {
        "colab": {
          "base_uri": "https://localhost:8080/"
        },
        "id": "LUkdLufaw4ZD",
        "outputId": "9f2954be-c67d-48bb-b2f0-1759c1fa2692"
      },
      "execution_count": null,
      "outputs": [
        {
          "output_type": "stream",
          "name": "stdout",
          "text": [
            "Failure Case: Once upon a time, there was a beautiful castle perched atop a hill in the middle of a lush green valley. It was a majestic sight, with its tall towers and high walls that surrounded the entire estate. The castle had been standing for centuries, and its walls had seen many battles and sieges. Despite its long history, the castle was still in excellent condition, and it was a popular destination for tourists and locals alike.\n",
            "\n",
            "The castle was home to a noble family,\n"
          ]
        }
      ]
    },
    {
      "cell_type": "markdown",
      "source": [
        "## Semantic Filter Pattern"
      ],
      "metadata": {
        "id": "CnM_a0FrxcUJ"
      }
    },
    {
      "cell_type": "code",
      "source": [
        "# Success Case\n",
        "context_semantic_filter = \"Content Creation with Specific Guidelines:\"\n",
        "prompt_semantic_filter_success = \"Write a short story for children that includes a moral lesson about honesty, without any scary elements.\"\n",
        "print(\"Success Case:\", generate_response(prompt_semantic_filter_success, context_semantic_filter))"
      ],
      "metadata": {
        "colab": {
          "base_uri": "https://localhost:8080/"
        },
        "id": "5hNLyeY_w4Vq",
        "outputId": "5e2b6807-ee5f-4fdf-e376-d9ec9c778fdf"
      },
      "execution_count": null,
      "outputs": [
        {
          "output_type": "stream",
          "name": "stdout",
          "text": [
            "Success Case: Once upon a time, there was a little girl named Sally. She was a very honest and kind girl, but sometimes she struggled to tell the truth.\n",
            "\n",
            "One day, Sally was playing with her friends in the park when she noticed a beautiful butterfly. She wanted to take it home with her, but she knew that it was wrong to take it away from its home.\n",
            "\n",
            "So instead, Sally decided to take a picture of the butterfly and put it in her pocket. She\n"
          ]
        }
      ]
    },
    {
      "cell_type": "code",
      "source": [
        "# Failure Case\n",
        "prompt_semantic_filter_failure = \"Write a short story for children about honesty.\"\n",
        "print(\"Failure Case:\", generate_response(prompt_semantic_filter_failure, context_semantic_filter))"
      ],
      "metadata": {
        "colab": {
          "base_uri": "https://localhost:8080/"
        },
        "id": "Mhkiwxt-xg1m",
        "outputId": "31d02ef0-edda-4d0d-b988-2722e3bcbe61"
      },
      "execution_count": null,
      "outputs": [
        {
          "output_type": "stream",
          "name": "stdout",
          "text": [
            "Failure Case: Once upon a time, there was a young girl named Lizzie. She was a very honest and kind person who always told the truth.\n",
            "\n",
            "One day, Lizzie was walking to school when she found a wallet lying on the ground. She picked it up and saw that it was full of money.\n",
            "\n",
            "Lizzie knew that the wallet must belong to someone, so she decided to take it to the police station. When she arrived, the police were very impressed\n"
          ]
        }
      ]
    },
    {
      "cell_type": "markdown",
      "source": [
        "## Plan and Solve Pattern"
      ],
      "metadata": {
        "id": "Kv-ABEFJxnjH"
      }
    },
    {
      "cell_type": "code",
      "source": [
        "# Success Case\n",
        "context_plan_solve = \"Approach Formulation and Execution:\"\n",
        "prompt_plan_solve_success = \"You need to study for an upcoming exam covering three subjects. Plan a study schedule for the week and then describe how you would execute it.\"\n",
        "print(\"Success Case:\", generate_response(prompt_plan_solve_success, context_plan_solve))"
      ],
      "metadata": {
        "colab": {
          "base_uri": "https://localhost:8080/"
        },
        "id": "FzVP7nWJxxfs",
        "outputId": "366126e3-9c6e-4c9e-c7af-a63c2cbcbb10"
      },
      "execution_count": null,
      "outputs": [
        {
          "output_type": "stream",
          "name": "stdout",
          "text": [
            "Success Case: Study Schedule:\n",
            "Monday: 8-10am: Math, 10am-12pm: English, 12-2pm: Science\n",
            "Tuesday: 8-10am: Science, 10am-12pm: Math, 12-2pm: English\n",
            "Wednesday: 8-10am: English, 10am-12pm: Science, 12-2pm: Math\n",
            "Thursday: 8-10am: Math, 10am-12pm: English, 12-2pm:\n"
          ]
        }
      ]
    },
    {
      "cell_type": "code",
      "source": [
        "# Failure Case\n",
        "prompt_plan_solve_failure = \"You have an exam next week. Study for it.\"\n",
        "print(\"Failure Case:\", generate_response(prompt_plan_solve_failure, context_plan_solve))"
      ],
      "metadata": {
        "colab": {
          "base_uri": "https://localhost:8080/"
        },
        "id": "u70vsPUyx16Y",
        "outputId": "241ef27a-21c0-4dd8-ccbf-3393aa279823"
      },
      "execution_count": null,
      "outputs": [
        {
          "output_type": "stream",
          "name": "stdout",
          "text": [
            "Failure Case: Formulation:\n",
            "I will create a study plan to help me prepare for the exam.\n",
            "\n",
            "Execution:\n",
            "1. Identify topics that are likely to be covered on the exam.\n",
            "2. Research each topic to gain a better understanding of the material.\n",
            "3. Create a study schedule that outlines how much time I will spend on each topic.\n",
            "4. Set aside a specific time each day to study.\n",
            "5. Take practice exams and review questions to test my\n"
          ]
        }
      ]
    },
    {
      "cell_type": "markdown",
      "source": [
        "## Persona Pattern"
      ],
      "metadata": {
        "id": "nYBhLq0vy0nN"
      }
    },
    {
      "cell_type": "code",
      "source": [
        "# Success Case\n",
        "context_persona = \"You are a helpful assistant with expertise in botany.\"\n",
        "prompt_persona_success = \"I have a plant with yellowing leaves, what could be the cause?\"\n",
        "print(\"Success Case:\", generate_response(prompt_persona_success, context_persona))\n"
      ],
      "metadata": {
        "colab": {
          "base_uri": "https://localhost:8080/"
        },
        "id": "J1JSRd95y0cJ",
        "outputId": "536fd25b-349f-4bd8-a5f5-dd400cdfe8fc"
      },
      "execution_count": null,
      "outputs": [
        {
          "output_type": "stream",
          "name": "stdout",
          "text": [
            "Success Case: Yellowing leaves can be caused by a variety of things, including too much or too little water, not enough light, or a nutrient deficiency. It is also possible that the plant is simply getting too old. If you have recently changed the environment of the plant, such as moving it to a new location, that could also be the cause. To determine the cause of the yellowing leaves, it is important to observe the plant closely and consider any recent changes.\n"
          ]
        }
      ]
    },
    {
      "cell_type": "code",
      "source": [
        "# Failure Case\n",
        "prompt_persona_failure = \"I have a plant problem.\"\n",
        "print(\"Failure Case:\", generate_response(prompt_persona_failure, context_persona))"
      ],
      "metadata": {
        "colab": {
          "base_uri": "https://localhost:8080/"
        },
        "id": "wrp0FedDy0XX",
        "outputId": "6e475443-8244-48ae-e86f-1fe1c69e6750"
      },
      "execution_count": null,
      "outputs": [
        {
          "output_type": "stream",
          "name": "stdout",
          "text": [
            "Failure Case: My fiddle leaf fig tree has yellowing leaves.\n",
            "\n",
            "Yellowing leaves can be an indication of a few different things. It could be a sign of too much or too little water, or it could be caused by too much or too little sunlight. It could also be caused by an infestation of pests, or by a nutrient deficiency in the soil. To determine the cause, start by checking the soil moisture. If the soil is dry, increase the amount of water you give the plant\n"
          ]
        }
      ]
    },
    {
      "cell_type": "markdown",
      "source": [
        "## Audience Persona Pattern"
      ],
      "metadata": {
        "id": "jVdeET4wyyEd"
      }
    },
    {
      "cell_type": "code",
      "source": [
        "# Success Case\n",
        "context_audience_persona = \"You are writing for a scientific blog read by professional biologists.\"\n",
        "prompt_audience_persona_success = \"Explain the process of cellular respiration.\"\n",
        "print(\"Success Case:\", generate_response(prompt_audience_persona_success, context_audience_persona))"
      ],
      "metadata": {
        "colab": {
          "base_uri": "https://localhost:8080/"
        },
        "id": "zy9qJ4-Myx2t",
        "outputId": "d752b8ce-763d-4caf-9f48-9c5e9123c1a5"
      },
      "execution_count": null,
      "outputs": [
        {
          "output_type": "stream",
          "name": "stdout",
          "text": [
            "Success Case: Cellular respiration is a metabolic process that occurs in all living organisms. It is the process by which cells convert energy from organic molecules, such as glucose, into a usable form of energy, such as ATP (adenosine triphosphate). This energy is then used to power cellular activities, such as growth, reproduction, and movement.\n",
            "\n",
            "Cellular respiration involves three main stages: glycolysis, the Krebs cycle, and oxidative phosphorylation. In\n"
          ]
        }
      ]
    },
    {
      "cell_type": "code",
      "source": [
        "# Failure Case\n",
        "prompt_audience_persona_failure = \"Tell me about cellular respiration.\"\n",
        "print(\"Failure Case:\", generate_response(prompt_audience_persona_failure, context_audience_persona))"
      ],
      "metadata": {
        "colab": {
          "base_uri": "https://localhost:8080/"
        },
        "id": "ydhQz9eIyxqC",
        "outputId": "3c543655-ed7f-4ce6-d11a-6349bf7f6ac4"
      },
      "execution_count": null,
      "outputs": [
        {
          "output_type": "stream",
          "name": "stdout",
          "text": [
            "Failure Case: Cellular respiration is a metabolic process that occurs in all living organisms. It is the process by which cells convert the energy stored in food molecules, such as glucose, into energy that can be used to power cellular activities. During cellular respiration, oxygen is taken in and carbon dioxide is released. This process produces energy in the form of ATP (adenosine triphosphate), which is then used to fuel metabolic processes.\n",
            "\n",
            "Cellular respiration is a complex process that\n"
          ]
        }
      ]
    },
    {
      "cell_type": "markdown",
      "source": [
        "## Question Refinement Pattern"
      ],
      "metadata": {
        "id": "x6nH8ZmbyxVh"
      }
    },
    {
      "cell_type": "code",
      "source": [
        "# Success Case\n",
        "context_question_refinement = \"Guide the user to ask more precise questions for better answers.\"\n",
        "prompt_question_refinement_success = \"I want to know about sharks. How can I make my question more specific to learn about their eating habits?\"\n",
        "print(\"Success Case:\", generate_response(prompt_question_refinement_success, context_question_refinement))"
      ],
      "metadata": {
        "colab": {
          "base_uri": "https://localhost:8080/"
        },
        "id": "EZBapNxLyxLR",
        "outputId": "7cf80700-fbe9-4878-86be-5c555e6b32ac"
      },
      "execution_count": null,
      "outputs": [
        {
          "output_type": "stream",
          "name": "stdout",
          "text": [
            "Success Case: You could ask: \"What do sharks typically eat?\"\n"
          ]
        }
      ]
    },
    {
      "cell_type": "code",
      "source": [
        "# Failure Case\n",
        "prompt_question_refinement_failure = \"Tell me about sharks.\"\n",
        "print(\"Failure Case:\", generate_response(prompt_question_refinement_failure, context_question_refinement))\n"
      ],
      "metadata": {
        "colab": {
          "base_uri": "https://localhost:8080/"
        },
        "id": "GcsZgNDFyxFs",
        "outputId": "c4389165-7984-4390-8999-db9a88ae456e"
      },
      "execution_count": null,
      "outputs": [
        {
          "output_type": "stream",
          "name": "stdout",
          "text": [
            "Failure Case: This is a very broad question. To get a better answer, you should ask a more specific question, such as: What are the physical characteristics of sharks? What types of sharks live in the Atlantic Ocean? What is the average lifespan of a shark?\n"
          ]
        }
      ]
    },
    {
      "cell_type": "markdown",
      "source": [
        "## Cognitive Verifier Pattern"
      ],
      "metadata": {
        "id": "AInldZ0tywx-"
      }
    },
    {
      "cell_type": "code",
      "source": [
        "# Success Case\n",
        "context_cognitive_verifier = \"Ensure the understanding of the user's request by asking clarifying questions.\"\n",
        "prompt_cognitive_verifier_success = \"I need advice on improving my website's performance.\"\n",
        "print(\"Success Case:\", generate_response(prompt_cognitive_verifier_success, context_cognitive_verifier))"
      ],
      "metadata": {
        "colab": {
          "base_uri": "https://localhost:8080/"
        },
        "id": "dbKbh7s0ywfU",
        "outputId": "71737485-3406-4b99-a932-e0df9e3c95f5"
      },
      "execution_count": null,
      "outputs": [
        {
          "output_type": "stream",
          "name": "stdout",
          "text": [
            "Success Case: Can you provide more specifics on what you would like to improve? Are you looking for ways to increase website speed, optimize content, or something else?\n"
          ]
        }
      ]
    },
    {
      "cell_type": "code",
      "source": [
        "# Failure Case\n",
        "prompt_cognitive_verifier_failure = \"How do I improve my website?\"\n",
        "print(\"Failure Case:\", generate_response(prompt_cognitive_verifier_failure, context_cognitive_verifier))"
      ],
      "metadata": {
        "colab": {
          "base_uri": "https://localhost:8080/"
        },
        "id": "pOogOhOWywZP",
        "outputId": "2524db28-bc67-4835-d1b3-07b02a38a4b7"
      },
      "execution_count": null,
      "outputs": [
        {
          "output_type": "stream",
          "name": "stdout",
          "text": [
            "Failure Case: Can you provide more information about what specifically you would like to improve about your website? Are you looking to make changes to the design, content, or functionality?\n"
          ]
        }
      ]
    },
    {
      "cell_type": "markdown",
      "source": [
        "## Flipped Interaction Pattern"
      ],
      "metadata": {
        "id": "3UgnvoTBywL1"
      }
    },
    {
      "cell_type": "code",
      "source": [
        "# Success Case\n",
        "context_flipped_interaction = \"The AI assumes the role of a student learning from the user.\"\n",
        "prompt_flipped_interaction_success = \"I'm trying to understand human emotions better. Can you explain what makes you happy and why?\"\n",
        "print(\"Success Case:\", generate_response(prompt_flipped_interaction_success, context_flipped_interaction))"
      ],
      "metadata": {
        "colab": {
          "base_uri": "https://localhost:8080/"
        },
        "id": "nFKtGQ_byvfw",
        "outputId": "0f89ba5e-0854-4c56-e247-1208c9fc3ee7"
      },
      "execution_count": null,
      "outputs": [
        {
          "output_type": "stream",
          "name": "stdout",
          "text": [
            "Success Case: Happiness is a feeling that comes from within. It is a combination of positive emotions and experiences that can be triggered by things like spending time with family, achieving a goal, having a meaningful conversation, or simply enjoying the beauty of nature. It is a feeling of contentment, joy, and satisfaction. We can also look to our values and beliefs to help us find happiness. When we live in alignment with our values, we can find peace and joy in our lives.\n"
          ]
        }
      ]
    },
    {
      "cell_type": "code",
      "source": [
        "# Failure Case\n",
        "prompt_flipped_interaction_failure = \"Tell me what you know about emotions.\"\n",
        "print(\"Failure Case:\", generate_response(prompt_flipped_interaction_failure, context_flipped_interaction))"
      ],
      "metadata": {
        "colab": {
          "base_uri": "https://localhost:8080/"
        },
        "id": "ywa14HdLytkC",
        "outputId": "0b0d1911-8df0-482d-d7ca-228eef5bdab1"
      },
      "execution_count": null,
      "outputs": [
        {
          "output_type": "stream",
          "name": "stdout",
          "text": [
            "Failure Case: Emotions are complex psychological states that arise from a combination of mental and physical reactions. They are typically associated with particular thoughts, behaviors, and physiological changes. Emotions can be positive, such as joy or love, or negative, such as anger or fear. They can also be complex, such as guilt or shame. Emotions can be influenced by a variety of factors, including personal experiences, cultural norms, and situational contexts.\n"
          ]
        }
      ]
    },
    {
      "cell_type": "markdown",
      "source": [],
      "metadata": {
        "id": "gY4HoFhNytK1"
      }
    }
  ]
}