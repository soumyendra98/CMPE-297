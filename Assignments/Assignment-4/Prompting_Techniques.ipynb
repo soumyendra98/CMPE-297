{
  "nbformat": 4,
  "nbformat_minor": 0,
  "metadata": {
    "colab": {
      "provenance": [],
      "toc_visible": true
    },
    "kernelspec": {
      "name": "python3",
      "display_name": "Python 3"
    },
    "language_info": {
      "name": "python"
    }
  },
  "cells": [
    {
      "cell_type": "markdown",
      "source": [
        "## OpenAI Cooking"
      ],
      "metadata": {
        "id": "tJe3YKZ2ehsR"
      }
    },
    {
      "cell_type": "code",
      "execution_count": null,
      "metadata": {
        "colab": {
          "base_uri": "https://localhost:8080/"
        },
        "id": "-qK5zYcONDf-",
        "outputId": "1db49561-6fc5-417d-d9ca-44a7b4f501af"
      },
      "outputs": [
        {
          "output_type": "stream",
          "name": "stdout",
          "text": [
            "Collecting openai\n",
            "  Downloading openai-0.28.1-py3-none-any.whl (76 kB)\n",
            "\u001b[?25l     \u001b[90m━━━━━━━━━━━━━━━━━━━━━━━━━━━━━━━━━━━━━━━━\u001b[0m \u001b[32m0.0/77.0 kB\u001b[0m \u001b[31m?\u001b[0m eta \u001b[36m-:--:--\u001b[0m\r\u001b[2K     \u001b[91m━━━━━━━━━━━━━━━━━━━━━━━━━━━━━━━━━━━━━\u001b[0m\u001b[90m╺\u001b[0m\u001b[90m━━\u001b[0m \u001b[32m71.7/77.0 kB\u001b[0m \u001b[31m1.9 MB/s\u001b[0m eta \u001b[36m0:00:01\u001b[0m\r\u001b[2K     \u001b[90m━━━━━━━━━━━━━━━━━━━━━━━━━━━━━━━━━━━━━━━━\u001b[0m \u001b[32m77.0/77.0 kB\u001b[0m \u001b[31m1.5 MB/s\u001b[0m eta \u001b[36m0:00:00\u001b[0m\n",
            "\u001b[?25hRequirement already satisfied: requests>=2.20 in /usr/local/lib/python3.10/dist-packages (from openai) (2.31.0)\n",
            "Requirement already satisfied: tqdm in /usr/local/lib/python3.10/dist-packages (from openai) (4.66.1)\n",
            "Requirement already satisfied: aiohttp in /usr/local/lib/python3.10/dist-packages (from openai) (3.8.6)\n",
            "Requirement already satisfied: charset-normalizer<4,>=2 in /usr/local/lib/python3.10/dist-packages (from requests>=2.20->openai) (3.3.1)\n",
            "Requirement already satisfied: idna<4,>=2.5 in /usr/local/lib/python3.10/dist-packages (from requests>=2.20->openai) (3.4)\n",
            "Requirement already satisfied: urllib3<3,>=1.21.1 in /usr/local/lib/python3.10/dist-packages (from requests>=2.20->openai) (2.0.7)\n",
            "Requirement already satisfied: certifi>=2017.4.17 in /usr/local/lib/python3.10/dist-packages (from requests>=2.20->openai) (2023.7.22)\n",
            "Requirement already satisfied: attrs>=17.3.0 in /usr/local/lib/python3.10/dist-packages (from aiohttp->openai) (23.1.0)\n",
            "Requirement already satisfied: multidict<7.0,>=4.5 in /usr/local/lib/python3.10/dist-packages (from aiohttp->openai) (6.0.4)\n",
            "Requirement already satisfied: async-timeout<5.0,>=4.0.0a3 in /usr/local/lib/python3.10/dist-packages (from aiohttp->openai) (4.0.3)\n",
            "Requirement already satisfied: yarl<2.0,>=1.0 in /usr/local/lib/python3.10/dist-packages (from aiohttp->openai) (1.9.2)\n",
            "Requirement already satisfied: frozenlist>=1.1.1 in /usr/local/lib/python3.10/dist-packages (from aiohttp->openai) (1.4.0)\n",
            "Requirement already satisfied: aiosignal>=1.1.2 in /usr/local/lib/python3.10/dist-packages (from aiohttp->openai) (1.3.1)\n",
            "Installing collected packages: openai\n",
            "\u001b[31mERROR: pip's dependency resolver does not currently take into account all the packages that are installed. This behaviour is the source of the following dependency conflicts.\n",
            "llmx 0.0.15a0 requires cohere, which is not installed.\n",
            "llmx 0.0.15a0 requires tiktoken, which is not installed.\u001b[0m\u001b[31m\n",
            "\u001b[0mSuccessfully installed openai-0.28.1\n"
          ]
        }
      ],
      "source": [
        "!pip install openai"
      ]
    },
    {
      "cell_type": "code",
      "source": [
        "import openai"
      ],
      "metadata": {
        "id": "hvMlziONNHUK"
      },
      "execution_count": null,
      "outputs": []
    },
    {
      "cell_type": "code",
      "source": [
        "openai.api_key = \"YOUR API KEY\""
      ],
      "metadata": {
        "id": "i5xTzRAxU-3E"
      },
      "execution_count": null,
      "outputs": []
    },
    {
      "cell_type": "code",
      "source": [
        "def generate(prompt):\n",
        "    response = openai.Completion.create(\n",
        "        model=\"text-davinci-003\",\n",
        "        prompt=prompt,\n",
        "        max_tokens=256,\n",
        "        temperature=0.5\n",
        "    )\n",
        "    answer = response.choices[0].text.strip()\n",
        "    print(answer)"
      ],
      "metadata": {
        "id": "ToIy-AvhNKTa"
      },
      "execution_count": null,
      "outputs": []
    },
    {
      "cell_type": "markdown",
      "source": [
        "## In Context Learning"
      ],
      "metadata": {
        "id": "zAhyyVY8auPa"
      }
    },
    {
      "cell_type": "code",
      "source": [
        "# Original prompt without ICL\n",
        "prompt_1 = \"\"\"What is a healthier alternative to eating white rice?\"\"\"\n",
        "generate(prompt_1)"
      ],
      "metadata": {
        "colab": {
          "base_uri": "https://localhost:8080/"
        },
        "id": "s_LS_nHSNKL5",
        "outputId": "1abdd1c5-0ee3-4b58-d7d9-0c55d270f9fe"
      },
      "execution_count": null,
      "outputs": [
        {
          "output_type": "stream",
          "name": "stdout",
          "text": [
            "A healthier alternative to eating white rice is to eat brown rice, quinoa, or other whole grain options such as barley or bulgur. These alternatives are higher in fiber and nutrients than white rice, and can help to reduce the risk of chronic diseases such as diabetes and heart disease.\n"
          ]
        }
      ]
    },
    {
      "cell_type": "code",
      "source": [
        "\n",
        "# Using In-Context Learning to provide context and examples\n",
        "prompt_2 = \"\"\"\n",
        "As a nutrition assistant, I offer healthier alternatives to common foods based on their glycemic index and nutritional value.\n",
        "\n",
        "Example 1:\n",
        "Food: White Bread\n",
        "Healthier Alternative: Whole grain bread - because it has more fiber and a lower glycemic index, leading to less of a spike in blood sugar levels.\n",
        "\n",
        "Example 2:\n",
        "Food: Sugary Cereals\n",
        "Healthier Alternative: Oatmeal - because it provides slower-burning energy and contains soluble fiber, which is beneficial for heart health.\n",
        "\n",
        "Based on the above examples, what is a healthier alternative to eating white rice and why?\n",
        "\"\"\"\n",
        "generate(prompt_2)"
      ],
      "metadata": {
        "colab": {
          "base_uri": "https://localhost:8080/"
        },
        "id": "9e_1td2jdaeg",
        "outputId": "3c2ce64e-48bb-4029-fa88-f41ee09cabc8"
      },
      "execution_count": null,
      "outputs": [
        {
          "output_type": "stream",
          "name": "stdout",
          "text": [
            "Healthier Alternative: Brown rice - because it has a lower glycemic index, more fiber, and more vitamins and minerals than white rice.\n"
          ]
        }
      ]
    },
    {
      "cell_type": "markdown",
      "source": [
        "## CoT(Chain of Thought)"
      ],
      "metadata": {
        "id": "UfZc6d0Za0WC"
      }
    },
    {
      "cell_type": "code",
      "source": [
        "#Failure Example\n",
        "prompt = \"What is the sum of the angles in a hexagon?\"\n",
        "generate(prompt)"
      ],
      "metadata": {
        "colab": {
          "base_uri": "https://localhost:8080/"
        },
        "id": "rZVAVYYdNKEV",
        "outputId": "25b420aa-a33d-477c-f034-8cc83c3d3d91"
      },
      "execution_count": null,
      "outputs": [
        {
          "output_type": "stream",
          "name": "stdout",
          "text": [
            "The sum of the angles in a hexagon is 720°.\n"
          ]
        }
      ]
    },
    {
      "cell_type": "code",
      "source": [
        "# CoT Solution\n",
        "prompt = \"\"\"\n",
        "To calculate the sum of the angles in a hexagon, we need to know that a hexagon can be divided into four triangles. Each triangle has a sum of angles of 180 degrees. Therefore, we multiply 4 by 180 to get the sum of angles in a hexagon.\n",
        "\"\"\"\n",
        "generate(prompt)"
      ],
      "metadata": {
        "colab": {
          "base_uri": "https://localhost:8080/"
        },
        "id": "DYIa3YfFNJ98",
        "outputId": "d7f5f8a9-c2df-438b-bddc-ee1f4bcfd0f4"
      },
      "execution_count": null,
      "outputs": [
        {
          "output_type": "stream",
          "name": "stdout",
          "text": [
            "4 x 180 = 720 degrees\n"
          ]
        }
      ]
    },
    {
      "cell_type": "markdown",
      "source": [
        "## iCoT(Iterative Chain of Thought)"
      ],
      "metadata": {
        "id": "AlZ6PGlxa02y"
      }
    },
    {
      "cell_type": "code",
      "source": [
        "#Failure Example\n",
        "prompt = \"What steps should be taken to solve a quadratic equation?\"\n",
        "generate(prompt)"
      ],
      "metadata": {
        "colab": {
          "base_uri": "https://localhost:8080/"
        },
        "id": "JPlgnc4cNJza",
        "outputId": "57e3e15e-dd6a-404e-edd2-7ef85f3e3824"
      },
      "execution_count": null,
      "outputs": [
        {
          "output_type": "stream",
          "name": "stdout",
          "text": [
            "1. Identify the equation and determine if it is in standard form.\n",
            "2. Factor the equation if possible.\n",
            "3. Use the Zero Product Property to solve for the roots.\n",
            "4. Use the Quadratic Formula to solve for the roots if the equation cannot be factored.\n",
            "5. Check the solutions by substituting them into the original equation.\n"
          ]
        }
      ]
    },
    {
      "cell_type": "code",
      "source": [
        "#iCoT Solution\n",
        "prompt = \"\"\"\n",
        "The first step to solving a quadratic equation is to make sure the equation is in standard form, which is ax^2 + bx + c = 0. Can you explain why this is important?\n",
        "Once in standard form, we can start the process of factoring or using the quadratic formula to find the solutions of x. Could you elaborate on how to decide which method to use?\n",
        "\"\"\"\n",
        "# The model is encouraged to provide a more detailed and iterative explanation.\n",
        "generate(prompt)\n"
      ],
      "metadata": {
        "colab": {
          "base_uri": "https://localhost:8080/"
        },
        "id": "oy0MemRxa-Ac",
        "outputId": "2c7066ee-9d9b-4266-dad7-3c244d424554"
      },
      "execution_count": null,
      "outputs": [
        {
          "output_type": "stream",
          "name": "stdout",
          "text": [
            "Standard form is important because it allows us to easily identify the coefficients of the equation. Knowing the coefficients helps us decide which method to use to solve the equation. If the equation is a perfect square trinomial (ax^2 + bx + c, where a, b, and c are all constants and a ≠ 0), then we can use factoring to solve the equation. If the equation is not a perfect square trinomial, then we can use the quadratic formula to solve the equation.\n"
          ]
        }
      ]
    },
    {
      "cell_type": "markdown",
      "source": [
        "## ToT(Theory of Mind)"
      ],
      "metadata": {
        "id": "SZXLv2AxbBsD"
      }
    },
    {
      "cell_type": "code",
      "source": [
        "#Failure Example\n",
        "prompt = \"How would you describe the color red to a blind person?\"\n",
        "generate(prompt)"
      ],
      "metadata": {
        "colab": {
          "base_uri": "https://localhost:8080/"
        },
        "id": "TnVisjUea-nM",
        "outputId": "65d950e0-066f-413d-c407-2861a5afdbf3"
      },
      "execution_count": null,
      "outputs": [
        {
          "output_type": "stream",
          "name": "stdout",
          "text": [
            "Red is a warm, vibrant color that can be described as a feeling of heat or energy. It is the color of passion and excitement, and can be likened to the warmth of a hug or the heat of a fire.\n"
          ]
        }
      ]
    },
    {
      "cell_type": "code",
      "source": [
        "#ToT solution\n",
        "prompt = \"\"\"\n",
        "Imagine you are describing the color red to someone who has been blind since birth. They are familiar with emotions, temperatures, and sounds. How would you explain the color using these analogies?\n",
        "\"\"\"\n",
        "# The model is now prompted to use empathetic understanding to relate the concept of color to other senses.\n",
        "generate(prompt)\n"
      ],
      "metadata": {
        "colab": {
          "base_uri": "https://localhost:8080/"
        },
        "id": "ttesSGPnbA1k",
        "outputId": "917cd0d1-a370-42a0-f117-b73b40849c85"
      },
      "execution_count": null,
      "outputs": [
        {
          "output_type": "stream",
          "name": "stdout",
          "text": [
            "I would explain the color red by saying it is like the feeling of warmth on a sunny day, or the sound of a fire crackling in the fireplace. It is like the intensity of a passionate kiss, or the excitement of a carnival. It is like the energy of a thunderstorm, or the joy of a birthday party.\n"
          ]
        }
      ]
    },
    {
      "cell_type": "markdown",
      "source": [
        "## GoT(Goal-Oriented Thinking)"
      ],
      "metadata": {
        "id": "Klfj7w-0bKZ0"
      }
    },
    {
      "cell_type": "code",
      "source": [
        "#Failure Example\n",
        "prompt = \"Write instructions for making tea.\"\n",
        "# The model might provide generic instructions without considering any specific goal such as taste preference.\n",
        "generate(prompt)"
      ],
      "metadata": {
        "colab": {
          "base_uri": "https://localhost:8080/"
        },
        "id": "jCcAUQS5bAy_",
        "outputId": "0b7345e8-d2e4-44e0-b411-f6d1e35b28ab"
      },
      "execution_count": null,
      "outputs": [
        {
          "output_type": "stream",
          "name": "stdout",
          "text": [
            "1. Boil a pot of water.\n",
            "\n",
            "2. Place a tea bag or loose tea leaves into a teapot or cup.\n",
            "\n",
            "3. Pour the boiled water into the teapot or cup and steep for 3-5 minutes.\n",
            "\n",
            "4. Remove the tea bag or strain the tea leaves.\n",
            "\n",
            "5. Add milk, sugar, or honey to taste.\n",
            "\n",
            "6. Enjoy your tea!\n"
          ]
        }
      ]
    },
    {
      "cell_type": "code",
      "source": [
        "#GoT\n",
        "prompt = \"\"\"\n",
        "The goal is to make a cup of green tea that has a balance of flavor without bitterness. What specific steps should be followed to achieve this?\n",
        "\"\"\"\n",
        "# The model's instructions now have a clear goal of avoiding bitterness in the flavor.\n",
        "generate(prompt)"
      ],
      "metadata": {
        "colab": {
          "base_uri": "https://localhost:8080/"
        },
        "id": "u2EmAcjIbAvp",
        "outputId": "c43f69b4-45bd-4fad-b8b4-41d886b8e33e"
      },
      "execution_count": null,
      "outputs": [
        {
          "output_type": "stream",
          "name": "stdout",
          "text": [
            "1. Start by boiling the right amount of water. For green tea, the ideal temperature is between 175 and 185 degrees Fahrenheit.\n",
            "\n",
            "2. Measure out the right amount of green tea leaves for your cup. Generally, one teaspoon of loose-leaf green tea is enough for one 8-ounce cup.\n",
            "\n",
            "3. Place the tea leaves in a teapot or cup and pour the hot water over them.\n",
            "\n",
            "4. Steep the tea for 2 to 3 minutes. The longer you steep it, the stronger the flavor will be.\n",
            "\n",
            "5. Strain the tea leaves and discard them.\n",
            "\n",
            "6. Add a small amount of sugar or honey to balance out the flavor of the tea.\n",
            "\n",
            "7. Enjoy your cup of green tea!\n"
          ]
        }
      ]
    },
    {
      "cell_type": "markdown",
      "source": [
        "## AoT(Analogy-Based Thinking)"
      ],
      "metadata": {
        "id": "k-xm9w8rbOzR"
      }
    },
    {
      "cell_type": "code",
      "source": [
        "#Failure Example\n",
        "prompt = \"Explain how a computer works.\"\n",
        "# The model may give a technical explanation that is hard to understand for non-technical individuals.\n",
        "generate(prompt)"
      ],
      "metadata": {
        "colab": {
          "base_uri": "https://localhost:8080/"
        },
        "id": "R-KbNFxNbAts",
        "outputId": "e5237f82-74ee-45f5-aa3f-280403142e78"
      },
      "execution_count": null,
      "outputs": [
        {
          "output_type": "stream",
          "name": "stdout",
          "text": [
            "A computer is a machine that is able to take data, process it, and produce a result. It does this by taking input from a user, running it through a processor, and then outputting the result. The processor is the heart of the computer and is responsible for executing instructions. It is made up of several components, such as the control unit, the arithmetic logic unit (ALU), and the memory. \n",
            "\n",
            "The control unit is responsible for controlling the other components in the processor. It reads the instructions from memory and then sends them to the ALU. The ALU is responsible for performing mathematical operations, such as addition, subtraction, and multiplication. It also stores the results of these operations in memory. \n",
            "\n",
            "The memory is responsible for storing data and instructions. It is made up of several different types of memory, such as RAM, ROM, and cache. RAM is used to store the instructions and data that are currently being used by the processor. ROM is used to store instructions that are necessary for the computer to boot up and run. Cache is used to store frequently used instructions and data in order to speed up the processor. \n",
            "\n",
            "Finally, the output device is responsible for displaying the results of the processor’s\n"
          ]
        }
      ]
    },
    {
      "cell_type": "code",
      "source": [
        "#AoT Solution\n",
        "prompt = \"\"\"\n",
        "Imagine explaining to a 10-year-old how a computer works by comparing it to something they are familiar with, like a library. How would you do it?\n",
        "\"\"\"\n",
        "# The model is now guided to use an analogy to simplify the explanation.\n",
        "generate(prompt)"
      ],
      "metadata": {
        "colab": {
          "base_uri": "https://localhost:8080/"
        },
        "id": "XlMJmLPabAqx",
        "outputId": "b4d34735-c49b-416a-afe1-b02b19e6f73e"
      },
      "execution_count": null,
      "outputs": [
        {
          "output_type": "stream",
          "name": "stdout",
          "text": [
            "I would explain to the 10-year-old that a computer is like a library. Just like a library has books that contain all kinds of information, a computer also contains information in the form of digital files. When you use a computer, you can access these files just like you can access books in a library. Just like you can search the library for books, you can search the computer for files. Computers also have a brain like a library has librarians. This brain is called the CPU and it processes all the information that you input. It helps the computer know what to do with the information. Just like a library has shelves and shelves of books, a computer has a hard drive that stores all the information. Finally, just like a library has a checkout desk where you can borrow books, a computer has a port where you can plug in different devices like a mouse or a keyboard.\n"
          ]
        }
      ]
    },
    {
      "cell_type": "markdown",
      "source": [
        "## RASCEF(Relevant, Accurate, Succinct, Clear, Evidence-based, and Focused)"
      ],
      "metadata": {
        "id": "RuxELAPObVRQ"
      }
    },
    {
      "cell_type": "code",
      "source": [
        "#Failure Example\n",
        "prompt = \"Discuss the benefits of exercise.\"\n",
        "# The model might provide a vague or overly broad response.\n",
        "generate(prompt)"
      ],
      "metadata": {
        "colab": {
          "base_uri": "https://localhost:8080/"
        },
        "id": "bFYfYxGybAhp",
        "outputId": "ed6e3176-6b2c-4372-8f73-1ca6c561fdf0"
      },
      "execution_count": null,
      "outputs": [
        {
          "output_type": "stream",
          "name": "stdout",
          "text": [
            "1. Improved cardiovascular health: Regular exercise helps to reduce the risk of heart disease, stroke, and other cardiovascular conditions. This is because exercise helps to reduce blood pressure, and improve blood flow throughout the body.\n",
            "\n",
            "2. Improved mental health: Exercise has been shown to reduce stress, anxiety, and depression. It can also improve mood and self-esteem.\n",
            "\n",
            "3. Improved physical health: Exercise helps to strengthen bones and muscles, and improve balance and coordination. It also helps to reduce the risk of certain types of cancer, and improve overall physical health.\n",
            "\n",
            "4. Improved cognitive function: Exercise can help to improve memory, focus, and concentration. It can also help to delay the onset of age-related cognitive decline.\n",
            "\n",
            "5. Improved sleep: Regular exercise can help to improve sleep quality and duration.\n",
            "\n",
            "6. Improved quality of life: Exercise can help to reduce fatigue and improve energy levels. It can also help to reduce the risk of certain diseases, and improve overall quality of life.\n"
          ]
        }
      ]
    },
    {
      "cell_type": "code",
      "source": [
        "#RASCEF Solution\n",
        "prompt = \"\"\"\n",
        "Please provide a relevant, accurate, succinct, clear, evidence-based, and focused explanation of the benefits of regular exercise, specifically relating to cardiovascular health.\n",
        "\"\"\"\n",
        "# The model is now prompted to give a well-structured and high-quality response.\n",
        "generate(prompt)\n"
      ],
      "metadata": {
        "colab": {
          "base_uri": "https://localhost:8080/"
        },
        "id": "6b6NmfQBa-86",
        "outputId": "96225325-c012-4bf7-97dd-3e5a9d2b2385"
      },
      "execution_count": null,
      "outputs": [
        {
          "output_type": "stream",
          "name": "stdout",
          "text": [
            "Regular exercise has been shown to reduce the risk of cardiovascular disease, improve heart health, and reduce the risk of stroke. Studies have found that regular physical activity can lower blood pressure, reduce cholesterol levels, and improve the body's ability to process sugar. Regular exercise also helps maintain a healthy weight, which can reduce the risk of heart disease, stroke, and diabetes. Additionally, regular exercise can reduce stress and anxiety levels, which can have a positive effect on cardiovascular health.\n"
          ]
        }
      ]
    },
    {
      "cell_type": "markdown",
      "source": [
        "## REACT(Reason, Evidence, Acknowledge Counter-arguments, Conclusion, Tie-back)"
      ],
      "metadata": {
        "id": "5fX04ch4bh6A"
      }
    },
    {
      "cell_type": "code",
      "source": [
        "#Failure Example\n",
        "prompt = \"Is space exploration worth the cost?\"\n",
        "# The model may provide a biased or unstructured argument.\n",
        "generate(prompt)"
      ],
      "metadata": {
        "colab": {
          "base_uri": "https://localhost:8080/"
        },
        "id": "9BxZgtmkbkZX",
        "outputId": "6795e7df-6393-41f2-bca9-b83a29131aa7"
      },
      "execution_count": null,
      "outputs": [
        {
          "output_type": "stream",
          "name": "stdout",
          "text": [
            "The answer to this question depends on one's individual perspective. Some people may feel that the cost of space exploration is worth it due to the potential benefits it could bring to humanity, such as new discoveries and technological advancements. Others may feel that the cost is too great and that the money could be better spent elsewhere. Ultimately, it is up to each person to decide for themselves if space exploration is worth the cost.\n"
          ]
        }
      ]
    },
    {
      "cell_type": "code",
      "source": [
        "# REACT SOLUTION\n",
        "prompt = \"\"\"\n",
        "Reason: Why might some believe space exploration is worth the cost?\n",
        "Evidence: What evidence is there to support this view?\n",
        "Acknowledge Counter-arguments: What are the main arguments against space exploration, and how might one respond to them?\n",
        "Conclusion: Based on the above, what conclusion can we draw about the value of space exploration?\n",
        "Tie-back: How does this conclusion tie back into the broader implications for humanity?\n",
        "\"\"\"\n",
        "# The model is now guided to construct a balanced and structured argument.\n",
        "generate(prompt)"
      ],
      "metadata": {
        "colab": {
          "base_uri": "https://localhost:8080/"
        },
        "id": "9cMJm-ZGbkVo",
        "outputId": "b2051e25-c095-4b46-8445-44f4bf8ba2d6"
      },
      "execution_count": null,
      "outputs": [
        {
          "output_type": "stream",
          "name": "stdout",
          "text": [
            "Reason: Space exploration is worth the cost because it can provide humanity with a greater understanding of our universe and our place in it. It can also help us further develop our technology, and potentially open up new frontiers for exploration and colonization.\n",
            "\n",
            "Evidence: Space exploration has yielded incredible advances in technology, from the development of satellites to the creation of advanced materials. It has also provided us with a wealth of data about our universe, from the discovery of new planets to the potential for life on other worlds.\n",
            "\n",
            "Acknowledge Counter-arguments: The main arguments against space exploration are its cost and the potential for dangerous outcomes. However, these risks can be managed through careful planning and oversight, and the potential benefits of space exploration far outweigh the costs.\n",
            "\n",
            "Conclusion: Space exploration is worth the cost due to its potential to provide humanity with a greater understanding of our universe and our place in it, as well as the potential for technological advances and new frontiers for exploration and colonization.\n",
            "\n",
            "Tie-back: This conclusion ties back into the broader implications for humanity because space exploration can help us further develop our technology, gain a better understanding of our universe, and potentially open up new frontiers for exploration and colonization. This can help us to expand our\n"
          ]
        }
      ]
    },
    {
      "cell_type": "markdown",
      "source": [
        "## Forest of Thoughts(Langchain)"
      ],
      "metadata": {
        "id": "WcM8HIGcboy5"
      }
    },
    {
      "cell_type": "code",
      "source": [
        "#Failure Example\n",
        "prompt = \"I need ideas for a new mobile app.\"\n",
        "# The model might provide a single or unconnected set of ideas.\n",
        "generate(prompt)"
      ],
      "metadata": {
        "colab": {
          "base_uri": "https://localhost:8080/"
        },
        "id": "wwC9OgcWbkR_",
        "outputId": "8108f566-ac9f-43b0-ff78-e781a22b9076"
      },
      "execution_count": null,
      "outputs": [
        {
          "output_type": "stream",
          "name": "stdout",
          "text": [
            "1. A virtual assistant app that helps you organize your day-to-day tasks and reminds you of important deadlines.\n",
            "2. A travel app that helps you plan trips, book flights, and find the best deals.\n",
            "3. A music streaming app that allows you to listen to your favorite songs and create custom playlists.\n",
            "4. A fitness and health tracking app that helps you stay motivated and reach your goals.\n",
            "5. A language learning app that teaches you a new language with interactive lessons and quizzes.\n",
            "6. A social media app that allows you to connect with friends and family in a secure and private way.\n",
            "7. A gaming app that lets you compete with friends and other players in a variety of genres.\n",
            "8. A scanning and document storage app that lets you quickly and easily scan documents and store them in the cloud.\n",
            "9. A recipe app that provides you with step-by-step instructions and photos for preparing delicious meals.\n",
            "10. A shopping app that helps you find the best deals on products and services.\n"
          ]
        }
      ]
    },
    {
      "cell_type": "code",
      "source": [
        "#FoT Solution\n",
        "prompt = \"\"\"\n",
        "Start with one main idea for a mobile app.\n",
        "Branch this idea into three unique selling points that differentiate it from existing apps.\n",
        "For each selling point, provide two features that would enhance user experience.\n",
        "\"\"\"\n",
        "# The model is encouraged to create a branching set of ideas that can be expanded upon.\n",
        "generate(prompt)"
      ],
      "metadata": {
        "colab": {
          "base_uri": "https://localhost:8080/"
        },
        "id": "tKWBYntsbkNT",
        "outputId": "82e75353-e827-487d-bce4-13be93194759"
      },
      "execution_count": null,
      "outputs": [
        {
          "output_type": "stream",
          "name": "stdout",
          "text": [
            "Main Idea: A mobile app that helps users stay organized and on top of their tasks.\n",
            "\n",
            "Unique Selling Point 1: Automated Reminders\n",
            "- Feature 1: Automatically set reminders for tasks based on user preferences\n",
            "- Feature 2: Ability to customize notifications for each task\n",
            "\n",
            "Unique Selling Point 2: Task Prioritization\n",
            "- Feature 1: Ability to categorize tasks into priority levels\n",
            "- Feature 2: Ability to sort tasks based on due date, priority, or other user-defined criteria\n",
            "\n",
            "Unique Selling Point 3: Collaboration\n",
            "- Feature 1: Ability to share tasks with other users and assign tasks to team members\n",
            "- Feature 2: Ability to comment on tasks and discuss progress in real-time\n"
          ]
        }
      ]
    },
    {
      "cell_type": "code",
      "source": [],
      "metadata": {
        "id": "qxlrh32lbkGg"
      },
      "execution_count": null,
      "outputs": []
    }
  ]
}