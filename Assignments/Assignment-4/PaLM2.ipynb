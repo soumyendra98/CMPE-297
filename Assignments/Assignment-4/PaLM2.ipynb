{
  "nbformat": 4,
  "nbformat_minor": 0,
  "metadata": {
    "colab": {
      "provenance": []
    },
    "kernelspec": {
      "name": "python3",
      "display_name": "Python 3"
    },
    "language_info": {
      "name": "python"
    }
  },
  "cells": [
    {
      "cell_type": "code",
      "execution_count": null,
      "metadata": {
        "colab": {
          "base_uri": "https://localhost:8080/"
        },
        "id": "LizYGbO--Iig",
        "outputId": "9d22e735-6584-491a-d240-a04f7601cfd3"
      },
      "outputs": [
        {
          "output_type": "stream",
          "name": "stdout",
          "text": [
            "\u001b[?25l     \u001b[90m━━━━━━━━━━━━━━━━━━━━━━━━━━━━━━━━━━━━━━━━\u001b[0m \u001b[32m0.0/133.2 kB\u001b[0m \u001b[31m?\u001b[0m eta \u001b[36m-:--:--\u001b[0m\r\u001b[2K     \u001b[91m━━━━━━━━━━━━━━━━━━━━━━━━━━━━━━━━━━━━\u001b[0m\u001b[91m╸\u001b[0m\u001b[90m━━━\u001b[0m \u001b[32m122.9/133.2 kB\u001b[0m \u001b[31m3.4 MB/s\u001b[0m eta \u001b[36m0:00:01\u001b[0m\r\u001b[2K     \u001b[90m━━━━━━━━━━━━━━━━━━━━━━━━━━━━━━━━━━━━━━━━\u001b[0m \u001b[32m133.2/133.2 kB\u001b[0m \u001b[31m2.6 MB/s\u001b[0m eta \u001b[36m0:00:00\u001b[0m\n",
            "\u001b[?25h\u001b[?25l     \u001b[90m━━━━━━━━━━━━━━━━━━━━━━━━━━━━━━━━━━━━━━━━\u001b[0m \u001b[32m0.0/267.9 kB\u001b[0m \u001b[31m?\u001b[0m eta \u001b[36m-:--:--\u001b[0m\r\u001b[2K     \u001b[90m━━━━━━━━━━━━━━━━━━━━━━━━━━━━━━━━━━━━━━━━\u001b[0m \u001b[32m267.9/267.9 kB\u001b[0m \u001b[31m12.6 MB/s\u001b[0m eta \u001b[36m0:00:00\u001b[0m\n",
            "\u001b[?25h"
          ]
        }
      ],
      "source": [
        "!pip install -q google-generativeai"
      ]
    },
    {
      "cell_type": "code",
      "source": [
        "import google.generativeai as palm\n",
        "import pprint"
      ],
      "metadata": {
        "id": "BY1j4w_M-Jtv"
      },
      "execution_count": null,
      "outputs": []
    },
    {
      "cell_type": "code",
      "source": [
        "palm.configure(api_key='YOUR API KEY')"
      ],
      "metadata": {
        "id": "dByePVlr-Jqp"
      },
      "execution_count": null,
      "outputs": []
    },
    {
      "cell_type": "code",
      "source": [
        "models = [m for m in palm.list_models() if 'generateText' in m.supported_generation_methods]\n",
        "model = models[0].name\n",
        "print(model)"
      ],
      "metadata": {
        "colab": {
          "base_uri": "https://localhost:8080/"
        },
        "id": "XYMoRRNl-Jjq",
        "outputId": "832a9a31-5c74-4e5a-aee5-2845e10c2c20"
      },
      "execution_count": null,
      "outputs": [
        {
          "output_type": "stream",
          "name": "stdout",
          "text": [
            "models/text-bison-001\n"
          ]
        }
      ]
    },
    {
      "cell_type": "markdown",
      "source": [
        "## Rap Battle Prompt"
      ],
      "metadata": {
        "id": "oNTSB5E4_fod"
      }
    },
    {
      "cell_type": "code",
      "source": [
        "prompt_rap_battle = \"Write a rap verse that includes the themes of triumph over adversity, the importance of perseverance, and the joy of success.\"\n",
        "\n",
        "completion = palm.generate_text(\n",
        "    model=model,\n",
        "    prompt=prompt_rap_battle,\n",
        "    temperature=0.7,\n",
        "    max_output_tokens=1024,\n",
        ")\n",
        "\n",
        "print(completion.result)\n"
      ],
      "metadata": {
        "colab": {
          "base_uri": "https://localhost:8080/"
        },
        "id": "92Omp6qL-JhX",
        "outputId": "9e9897f6-a932-4e3f-fc43-ed06c5cca989"
      },
      "execution_count": null,
      "outputs": [
        {
          "output_type": "stream",
          "name": "stdout",
          "text": [
            "Yo\n",
            "\n",
            "I'm here to tell a story\n",
            "Of a young man who overcame adversity\n",
            "He faced challenges at every turn\n",
            "But he never gave up, he persevered\n",
            "\n",
            "He worked hard and never gave in\n",
            "And eventually, he achieved success\n",
            "He found joy in his accomplishments\n",
            "And he knew that he could do anything he set his mind to\n",
            "\n",
            "So if you're facing adversity right now\n",
            "Don't give up, keep going\n",
            "Persevere and you will achieve success\n",
            "You will find joy in your accomplishments\n",
            "And you will know that you can do anything you set your mind to\n",
            "\n",
            "So go out there and chase your dreams\n",
            "Don't let anything stand in your way\n",
            "Persevere and you will succeed\n"
          ]
        }
      ]
    },
    {
      "cell_type": "markdown",
      "source": [
        "## Turn by Turn direction Prompt"
      ],
      "metadata": {
        "id": "CUBO4COU_Up8"
      }
    },
    {
      "cell_type": "code",
      "source": [
        "prompt_turn_by_turn = \"Generate turn-by-turn directions from the Colosseum in Rome to the Vatican City, highlighting major landmarks along the way.\"\n",
        "\n",
        "completion = palm.generate_text(\n",
        "    model=model,\n",
        "    prompt=prompt_turn_by_turn,\n",
        "    temperature=0.7,\n",
        "    max_output_tokens=1024,\n",
        ")\n",
        "\n",
        "print(completion.result)\n"
      ],
      "metadata": {
        "colab": {
          "base_uri": "https://localhost:8080/"
        },
        "id": "a0nuNZth-JeQ",
        "outputId": "2852a231-98ef-41f0-e494-192d8562fdec"
      },
      "execution_count": null,
      "outputs": [
        {
          "output_type": "stream",
          "name": "stdout",
          "text": [
            "1. **Start at the Colosseum.**\n",
            "    * The Colosseum is an oval amphitheater in the center of the city. It is one of the most iconic landmarks in Rome, and it is easy to find.\n",
            "2. **Walk east on Via dei Fori Imperiali.**\n",
            "    * Via dei Fori Imperiali is a wide street that runs east from the Colosseum to the Roman Forum. It is lined with ancient ruins, including the Arch of Constantine and the Temple of Venus and Roma.\n",
            "3. **Turn left onto Via Cavour.**\n",
            "    * Via Cavour is a pedestrian street that runs north from the Roman Forum to the Piazza Venezia. It is lined with shops, restaurants, and cafés.\n",
            "4. **Turn right onto Via del Corso.**\n",
            "    * Via del Corso is one of the most famous shopping streets in the world. It is lined with high-end stores and boutiques.\n",
            "5. **Turn left onto Piazza di Spagna.**\n",
            "    * Piazza di Spagna is a large square in the center of the city. It is home to the famous Spanish Steps and the Trevi Fountain.\n",
            "6. **Walk across the Tiber River.**\n",
            "    * The Tiber River runs through the center of Rome. You can cross the river by the Ponte Sant'Angelo, which is a bridge that was built in the 2nd century AD.\n",
            "7. **Turn right onto Via della Conciliazione.**\n",
            "    * Via della Conciliazione is a wide street that runs from the Tiber River to the Vatican City. It is lined with embassies and government buildings.\n",
            "8. **Turn left onto Viale Vaticano.**\n",
            "    * Viale Vaticano is a street that runs through the Vatican City. It is lined with museums, gardens, and churches.\n",
            "9. **Arrive at St. Peter's Square.**\n",
            "    * St. Peter's Square is the largest square in the world. It is located in front of St. Peter's Basilica, which is the largest church in the world.\n",
            "\n",
            "Here are some additional landmarks that you can see along the way:\n",
            "\n",
            "* The Arch of Constantine\n",
            "* The Temple of Venus and Roma\n",
            "* The Roman Forum\n",
            "* The Piazza Venezia\n",
            "* The Trevi Fountain\n",
            "* The Spanish Steps\n",
            "* The Ponte Sant'Angelo\n",
            "* The Vatican Museums\n",
            "* St. Peter's Basilica\n"
          ]
        }
      ]
    },
    {
      "cell_type": "markdown",
      "source": [
        "## Explain code Prompt"
      ],
      "metadata": {
        "id": "2tJzyOxC_ayu"
      }
    },
    {
      "cell_type": "code",
      "source": [
        "prompt_explain_code = \"Explain the following Python code snippet in simple terms: \\n\\n```python\\ndef fibonacci(n):\\n    a, b = 0, 1\\n    for _ in range(n):\\n        yield a\\n        a, b = b, a + b\\n```\"\n",
        "\n",
        "completion = palm.generate_text(\n",
        "    model=model,  # Replace with the actual model name\n",
        "    prompt=prompt_explain_code,\n",
        "    temperature=0.7,\n",
        "    max_output_tokens=1024,\n",
        ")\n",
        "\n",
        "print(completion.result)\n"
      ],
      "metadata": {
        "colab": {
          "base_uri": "https://localhost:8080/"
        },
        "id": "Hj1UC5Ln_a8X",
        "outputId": "8473537a-3432-4536-f604-48865b80f57a"
      },
      "execution_count": null,
      "outputs": [
        {
          "output_type": "stream",
          "name": "stdout",
          "text": [
            "```python\n",
            "def fibonacci(n):\n",
            "\n",
            "    # a and b are the first and second values in the Fibonacci sequence.\n",
            "    a, b = 0, 1\n",
            "\n",
            "    # Iterate n times, yielding each value in the Fibonacci sequence.\n",
            "    for _ in range(n):\n",
            "        yield a\n",
            "        a, b = b, a + b\n",
            "```\n"
          ]
        }
      ]
    }
  ]
}